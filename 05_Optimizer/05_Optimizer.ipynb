{
 "cells": [
  {
   "cell_type": "markdown",
   "metadata": {},
   "source": [
    "# Optimizer"
   ]
  },
  {
   "cell_type": "raw",
   "metadata": {},
   "source": [
    "We are optimizing out network today using different optimizers:\n",
    "  - SGD\n",
    "  - Momentum\n",
    "  - Adagrad\n",
    "  - RMSProp\n",
    "  - Adam"
   ]
  },
  {
   "cell_type": "markdown",
   "metadata": {},
   "source": [
    "## Initialize the dataset"
   ]
  },
  {
   "cell_type": "code",
   "execution_count": 1,
   "metadata": {},
   "outputs": [],
   "source": [
    "import copy\n",
    "import torch\n",
    "import torchvision\n",
    "import torchvision.transforms as transforms\n",
    "import tqdm\n",
    "\n",
    "def load_mnist_data(root_path='./data', batch_size=4):\n",
    "    transform = transforms.Compose(\n",
    "        [transforms.ToTensor(),\n",
    "        transforms.Normalize((0.5), (0.5))]\n",
    "    )\n",
    "\n",
    "    trainset = torchvision.datasets.MNIST(root=root_path, train=True, download=True, transform=transform)\n",
    "    trainloader = torch.utils.data.DataLoader(trainset, batch_size=batch_size, shuffle=True, num_workers=2)\n",
    "\n",
    "    testset = torchvision.datasets.MNIST(root=root_path, train=False, download=True, transform=transform)\n",
    "    testloader = torch.utils.data.DataLoader(testset, batch_size=batch_size, shuffle=False, num_workers=2)\n",
    "\n",
    "    return trainloader, testloader"
   ]
  },
  {
   "cell_type": "markdown",
   "metadata": {},
   "source": [
    "## Define the neural network structure"
   ]
  },
  {
   "cell_type": "code",
   "execution_count": 10,
   "metadata": {},
   "outputs": [],
   "source": [
    "import torch.nn as nn\n",
    "\n",
    "\n",
    "\n",
    "model = nn.Sequential(\n",
    "    nn.Linear(784, 32),  # input layer (do not change the in_features size of this layer - we need it later)\n",
    "    #nn.ReLU(),\n",
    "    nn.Linear(32, 32),\n",
    "    #nn.ReLU(),\n",
    "    nn.Linear(32, 10)  # you can change the in_features of this layer but let the out_features at size 10 here - we need it layer\n",
    ")"
   ]
  },
  {
   "cell_type": "markdown",
   "metadata": {},
   "source": [
    "## Training loop"
   ]
  },
  {
   "cell_type": "code",
   "execution_count": 15,
   "metadata": {},
   "outputs": [],
   "source": [
    "from typing import Callable\n",
    "from torch.optim import Optimizer\n",
    "\n",
    "avg_losses = {'iterations': [], 'loss': []}\n",
    "\n",
    "def train_model(\n",
    "    model: nn.Module, loss_fn: Callable, optimizer: Optimizer,\n",
    "    batch_size: int = 4, epochs: int = 10\n",
    "):\n",
    "    # we only consider the mnist train data for this example\n",
    "    train_loader, _ = load_mnist_data(batch_size=batch_size)\n",
    "\n",
    "    device = torch.device('cuda') if torch.cuda.is_available() else torch.device('cpu')\n",
    "    criterion = loss_fn\n",
    "\n",
    "    avg_losses = {'iterations': [], 'loss': []}\n",
    "\n",
    "    for epoch in range(epochs):\n",
    "        running_loss = 0.0\n",
    "        running_accuracy = []\n",
    "        for i, (imgs, targets) in enumerate(tqdm.tqdm(train_loader, desc=f'Training iteration {epoch + 1}')):\n",
    "            imgs, targets = imgs.to(device=device), targets.to(device=device)\n",
    "\n",
    "            # zero the parameter gradients\n",
    "            optimizer.zero_grad()\n",
    "\n",
    "            # forward + backward + optimize\n",
    "            outputs = model(imgs.reshape(imgs.shape[0], -1))\n",
    "            loss = criterion(outputs, targets)\n",
    "            loss.backward()\n",
    "            optimizer.step()\n",
    "\n",
    "            # print statistics\n",
    "            running_loss += loss.item()\n",
    "\n",
    "            # Calculate the Accuracy (how many of all samples are correctly classified?)\n",
    "            max_outputs = torch.max(outputs, dim=1).indices\n",
    "            accuracy = (max_outputs.detach() == targets.detach()).to(dtype=torch.float32).mean()\n",
    "            running_accuracy.append(accuracy)\n",
    "#this part is for printing avg values\n",
    "        if (i + 1) % 50 == 0:\n",
    "            avg_loss = running_loss / 50\n",
    "            avg_losses['iterations'].append(i + 1)\n",
    "            avg_losses['loss'].append(avg_loss)\n",
    "            print(f'Epoch {epoch + 1}, Iteration {i + 1}, Avg Loss: {avg_loss:.3f}')\n",
    "            running_loss = 0.0\n",
    "\n",
    "        print(f'Epoch {epoch + 1} finished with loss: {running_loss / len(train_loader):.3f} and accuracy {torch.tensor(running_accuracy).mean():.3f}')"
   ]
  },
  {
   "cell_type": "markdown",
   "metadata": {},
   "source": [
    "## Define the optimizers"
   ]
  },
  {
   "cell_type": "code",
   "execution_count": 16,
   "metadata": {},
   "outputs": [
    {
     "name": "stderr",
     "output_type": "stream",
     "text": [
      "Training iteration 1: 100%|██████████| 15000/15000 [00:29<00:00, 516.26it/s]\n"
     ]
    },
    {
     "name": "stdout",
     "output_type": "stream",
     "text": [
      "Epoch 1, Iteration 15000, Avg Loss: 626.353\n",
      "Epoch 1 finished with loss: 0.000 and accuracy 0.750\n"
     ]
    },
    {
     "name": "stderr",
     "output_type": "stream",
     "text": [
      "Training iteration 2:  36%|███▌      | 5434/15000 [00:12<00:16, 578.60it/s]"
     ]
    }
   ],
   "source": [
    "from torch.optim import SGD, Adagrad, RMSprop, Adam\n",
    "loss_fn = nn.CrossEntropyLoss()\n",
    "\n",
    "epochs = 5\n",
    "\n",
    "optimizers = [SGD, Adagrad, RMSprop, Adam]\n",
    "\n",
    "for optimizer_class in optimizers:\n",
    "    current_model = copy.deepcopy(model)\n",
    "    optimizer = optimizer_class(current_model.parameters(), lr = 0.01)\n",
    "\n",
    "train_model(current_model, loss_fn, optimizer, epochs = epochs,)\n",
    "\n"
   ]
  },
  {
   "cell_type": "markdown",
   "metadata": {},
   "source": [
    "## Run the training loop with different optimizers"
   ]
  },
  {
   "cell_type": "raw",
   "metadata": {},
   "source": [
    "Don't forget to always use the same default model (same parameters / weights to start from).\n",
    "E. g. initialize the model and copy the model every time for each optimizer (e. g. with copy.deepcopy)"
   ]
  },
  {
   "cell_type": "markdown",
   "metadata": {},
   "source": [
    "''I did it in previous step with for loop''"
   ]
  },
  {
   "cell_type": "raw",
   "metadata": {},
   "source": []
  },
  {
   "cell_type": "code",
   "execution_count": null,
   "metadata": {},
   "outputs": [],
   "source": [
    "# Store the average loss of every 50th iteration in some iterable structure, e. g. dictionaries\n",
    "# Create a mapping between the optimizer and the loss, so that you know which losses where achieved for which optimizer\n",
    "# Update the method train_model accordingly to save the losses\n",
    "\n",
    "# Update the 'train_model' method above and run the method with different optimizers\n",
    "\n",
    "\n",
    "avg_losses_sgd = train_model(model, loss_fn, SGD, epochs=5)\n",
    "avg_losses_adagrad = train_model(model, loss_fn, Adagrad, epochs=5)\n",
    "avg_losses_rmsprop = train_model(model, loss_fn, RMSprop, epochs=5)\n",
    "avg_losses_adam = train_model(model, loss_fn, Adam, epochs=5)\n",
    "\n",
    "print(\"SGD Losses:\", avg_losses_sgd)\n",
    "print(\"Adagrad Losses:\", avg_losses_adagrad)\n",
    "print(\"RMSprop Losses:\", avg_losses_rmsprop)\n",
    "print(\"Adam Losses:\", avg_losses_adam)"
   ]
  },
  {
   "cell_type": "markdown",
   "metadata": {},
   "source": [
    "## Visualize the results of the optimizers / losses"
   ]
  },
  {
   "cell_type": "code",
   "execution_count": null,
   "metadata": {},
   "outputs": [
    {
     "ename": "NameError",
     "evalue": "name 'avg_losses_sgd' is not defined",
     "output_type": "error",
     "traceback": [
      "\u001b[1;31m---------------------------------------------------------------------------\u001b[0m",
      "\u001b[1;31mNameError\u001b[0m                                 Traceback (most recent call last)",
      "\u001b[1;32mc:\\Users\\rafid\\OneDrive\\Desktop\\Academic\\THI WS23\\Algorithm AI 2\\Algorithm AI 2 Exercises\\05_Optimizer\\05_Optimizer.ipynb Cell 15\u001b[0m line \u001b[0;36m1\n\u001b[0;32m     <a href='vscode-notebook-cell:/c%3A/Users/rafid/OneDrive/Desktop/Academic/THI%20WS23/Algorithm%20AI%202/Algorithm%20AI%202%20Exercises/05_Optimizer/05_Optimizer.ipynb#X20sZmlsZQ%3D%3D?line=13'>14</a>\u001b[0m     plt\u001b[39m.\u001b[39mlegend()\n\u001b[0;32m     <a href='vscode-notebook-cell:/c%3A/Users/rafid/OneDrive/Desktop/Academic/THI%20WS23/Algorithm%20AI%202/Algorithm%20AI%202%20Exercises/05_Optimizer/05_Optimizer.ipynb#X20sZmlsZQ%3D%3D?line=15'>16</a>\u001b[0m plt\u001b[39m.\u001b[39mfigure(figsize\u001b[39m=\u001b[39m(\u001b[39m12\u001b[39m, \u001b[39m8\u001b[39m))\n\u001b[1;32m---> <a href='vscode-notebook-cell:/c%3A/Users/rafid/OneDrive/Desktop/Academic/THI%20WS23/Algorithm%20AI%202/Algorithm%20AI%202%20Exercises/05_Optimizer/05_Optimizer.ipynb#X20sZmlsZQ%3D%3D?line=17'>18</a>\u001b[0m plot_results(avg_losses_sgd, \u001b[39m'\u001b[39m\u001b[39mSGD\u001b[39m\u001b[39m'\u001b[39m)\n\u001b[0;32m     <a href='vscode-notebook-cell:/c%3A/Users/rafid/OneDrive/Desktop/Academic/THI%20WS23/Algorithm%20AI%202/Algorithm%20AI%202%20Exercises/05_Optimizer/05_Optimizer.ipynb#X20sZmlsZQ%3D%3D?line=18'>19</a>\u001b[0m plot_results(avg_losses_adagrad, \u001b[39m'\u001b[39m\u001b[39mAdagrad\u001b[39m\u001b[39m'\u001b[39m)\n\u001b[0;32m     <a href='vscode-notebook-cell:/c%3A/Users/rafid/OneDrive/Desktop/Academic/THI%20WS23/Algorithm%20AI%202/Algorithm%20AI%202%20Exercises/05_Optimizer/05_Optimizer.ipynb#X20sZmlsZQ%3D%3D?line=19'>20</a>\u001b[0m plot_results(avg_losses_rmsprop, \u001b[39m'\u001b[39m\u001b[39mRMSprop\u001b[39m\u001b[39m'\u001b[39m)\n",
      "\u001b[1;31mNameError\u001b[0m: name 'avg_losses_sgd' is not defined"
     ]
    },
    {
     "data": {
      "text/plain": [
       "<Figure size 1200x800 with 0 Axes>"
      ]
     },
     "metadata": {},
     "output_type": "display_data"
    }
   ],
   "source": [
    "# Plot the results with matplotlib and show the difference in convergence speed with different optimizers.\n",
    "# Plot the decreasing loss of each model with each optimizer\n",
    "import matplotlib.pyplot as plt\n",
    "\n",
    "# Function to plot the results\n",
    "def plot_results(avg_losses_list, optimizer_name):\n",
    "    iterations = avg_losses['iterations']\n",
    "    losses = avg_losses['loss']\n",
    "\n",
    "    \n",
    "    plt.plot(iterations, avg_losses, label=optimizer_name)\n",
    "    plt.xlabel('Iteration')\n",
    "    plt.ylabel('Average Loss')\n",
    "    plt.title(f'Convergence with {optimizer_name}')\n",
    "    plt.legend()\n",
    "    \n",
    "plt.figure(figsize=(12, 8))\n",
    "\n",
    "plot_results(avg_losses_sgd, 'SGD')\n",
    "plot_results(avg_losses_adagrad, 'Adagrad')\n",
    "plot_results(avg_losses_rmsprop, 'RMSprop')\n",
    "plot_results(avg_losses_adam, 'Adam')\n",
    "\n",
    "plt.show()"
   ]
  },
  {
   "cell_type": "code",
   "execution_count": null,
   "metadata": {},
   "outputs": [],
   "source": []
  }
 ],
 "metadata": {
  "kernelspec": {
   "display_name": "Python 3.9.13 ('aai_2')",
   "language": "python",
   "name": "python3"
  },
  "language_info": {
   "codemirror_mode": {
    "name": "ipython",
    "version": 3
   },
   "file_extension": ".py",
   "mimetype": "text/x-python",
   "name": "python",
   "nbconvert_exporter": "python",
   "pygments_lexer": "ipython3",
   "version": "3.9.13"
  },
  "orig_nbformat": 4,
  "vscode": {
   "interpreter": {
    "hash": "25301cabe4c6f833fd20f15b1b22933971919908771eb627a83fe325b4fb6671"
   }
  }
 },
 "nbformat": 4,
 "nbformat_minor": 2
}
