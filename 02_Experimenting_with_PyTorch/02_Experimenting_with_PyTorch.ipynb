{
  "cells": [
    {
      "cell_type": "markdown",
      "metadata": {
        "id": "0tzeZ7gh2pLt"
      },
      "source": [
        "# Experimenting with PyTorch"
      ]
    },
    {
      "cell_type": "markdown",
      "metadata": {
        "id": "qg_Nbxc92pLx"
      },
      "source": [
        "For using PyTorch you can either use your own Computer or [Google Colab](https://colab.research.google.com/).\n",
        "\n",
        "You need to install the [PyTorch](https://pytorch.org/) package which comes with some extra dependencies.\n",
        "\n",
        "Install the following packages for this notebook:\n",
        "- **PyTorch**\n",
        "- **torchvision**\n",
        "- **tqdm**\n",
        "- **matplotlib**\n",
        "\n",
        "If your computer is equpped with a GPU you can also install the GPU version of PyTorch. Otherwise install the CPU version, which is smaller in size and enough for the tasks of this practical.\n",
        "\n",
        "For using the GPU version you need to fullfill some prerequisites first, which are a little time consuming.\n",
        "- Make sure that your graphics card is new enough to handle the PyTorch environment. This can be checked by searching for the compute capability of your GPU and the compute capability requirements from the PyTorch module\n",
        "- Install the latest NVIDIA driver\n",
        "- Install suitable CUDA version\n",
        "- Install CudNN\n",
        "- Install PyTorch after all previous successful steps\n",
        "\n",
        "\n",
        "Using Google Colab should avoid installing the above mentioned prerequisites."
      ]
    },
    {
      "cell_type": "markdown",
      "metadata": {
        "id": "htejyqqV2pLy"
      },
      "source": [
        "## PyTorch Operations"
      ]
    },
    {
      "cell_type": "code",
      "execution_count": 1,
      "metadata": {
        "colab": {
          "base_uri": "https://localhost:8080/"
        },
        "id": "WlMsDpaF2pLy",
        "outputId": "f0f870bc-1b74-4cdc-b58f-6f49dfac8cdb"
      },
      "outputs": [
        {
          "ename": "ModuleNotFoundError",
          "evalue": "No module named 'torch'",
          "output_type": "error",
          "traceback": [
            "\u001b[1;31m---------------------------------------------------------------------------\u001b[0m",
            "\u001b[1;31mModuleNotFoundError\u001b[0m                       Traceback (most recent call last)",
            "\u001b[1;32mc:\\Users\\rafid\\OneDrive\\Desktop\\Academic\\THI WS23\\Algorithm AI 2\\Algorithm AI 2 Exercises\\02_Experimenting_with_PyTorch\\02_Experimenting_with_PyTorch.ipynb Cell 4\u001b[0m line \u001b[0;36m1\n\u001b[1;32m----> <a href='vscode-notebook-cell:/c%3A/Users/rafid/OneDrive/Desktop/Academic/THI%20WS23/Algorithm%20AI%202/Algorithm%20AI%202%20Exercises/02_Experimenting_with_PyTorch/02_Experimenting_with_PyTorch.ipynb#W3sZmlsZQ%3D%3D?line=0'>1</a>\u001b[0m \u001b[39mimport\u001b[39;00m \u001b[39mtorch\u001b[39;00m\n\u001b[0;32m      <a href='vscode-notebook-cell:/c%3A/Users/rafid/OneDrive/Desktop/Academic/THI%20WS23/Algorithm%20AI%202/Algorithm%20AI%202%20Exercises/02_Experimenting_with_PyTorch/02_Experimenting_with_PyTorch.ipynb#W3sZmlsZQ%3D%3D?line=1'>2</a>\u001b[0m \u001b[39mimport\u001b[39;00m \u001b[39mtorch\u001b[39;00m\u001b[39m.\u001b[39;00m\u001b[39mnn\u001b[39;00m \u001b[39mas\u001b[39;00m \u001b[39mnn\u001b[39;00m\n\u001b[0;32m      <a href='vscode-notebook-cell:/c%3A/Users/rafid/OneDrive/Desktop/Academic/THI%20WS23/Algorithm%20AI%202/Algorithm%20AI%202%20Exercises/02_Experimenting_with_PyTorch/02_Experimenting_with_PyTorch.ipynb#W3sZmlsZQ%3D%3D?line=2'>3</a>\u001b[0m \u001b[39mimport\u001b[39;00m \u001b[39mnumpy\u001b[39;00m \u001b[39mas\u001b[39;00m \u001b[39mnp\u001b[39;00m\n",
            "\u001b[1;31mModuleNotFoundError\u001b[0m: No module named 'torch'"
          ]
        }
      ],
      "source": [
        "import torch\n",
        "import torch.nn as nn\n",
        "import numpy as np\n",
        "\n",
        "# Tensors\n",
        "\n",
        "# Initialize a 1d torch tensor of size (6, 1) and name it 'data'. Initialize the tensor as random normal distribution\n",
        "\n",
        "data = torch.randn(6, 1)\n",
        "\n",
        "\n",
        "# Convert the torch tensor to a numpy array and convert it back afterwards. Keep the variable naming and just override the variable every time\n",
        "\n",
        "data = np.array(data)\n",
        "\n",
        "\n",
        "data = torch.from_numpy(data)\n",
        "print(f'Randomly Initilized: \\n{data}')\n",
        "\n",
        "\n",
        "\n",
        "# Tensors have a shape, a data type and are executed on some device on your computer. Find the mentioned tensor attributes and print them.\n",
        "\n",
        "print(f'\\nShape: {data.shape}\\nData Type: {data.dtype}\\nDevice: {data.device}')\n",
        "\n",
        "\n",
        "\n",
        "# Slicing works the same as with numpy arrays. No need to learn a new syntax here :)\n",
        "# Try some slicing methods (i. e. the slicing methods we discussed in the first practical)\n",
        "\n",
        "slice_1 = data[1:6:2, 0]\n",
        "print('\\nSliced data:')\n",
        "print(slice_1)\n",
        "\n",
        "\n",
        "###\n",
        "# Arithmetic operations\n",
        "###\n",
        "\n",
        "# Perform a matrix multiplication with two random tensors of different shape. The value initialization is of your choice.\n",
        "\n",
        "tensor_a = torch.randn(3, 4)  # A 3x4 matrix\n",
        "tensor_b = torch.randn(4, 2)  # A 4x2 matrix\n",
        "\n",
        "# Perform matrix multiplication\n",
        "result = np.dot(tensor_a, tensor_b)\n",
        "\n",
        "print(\"\\nTensor A (3x4):\")\n",
        "print(tensor_a)\n",
        "\n",
        "print(\"\\nTensor B (4x2):\")\n",
        "print(tensor_b)\n",
        "\n",
        "print(\"\\nResult of Matrix Multiplication (3x2):\")\n",
        "print(result)\n",
        "\n",
        "\n",
        "\n",
        "# Perform the hadamard (element-wise) product with two random initialized tensors.\n",
        "\n",
        "tensor_a = np.random.rand(3, 4)  # A 3x4 matrix\n",
        "tensor_b = np.random.rand(3, 4)  # A 3x4 matrix\n",
        "elementwise_product = np.multiply(tensor_a, tensor_b)\n",
        "print(\"\\nElementwise Product:\")\n",
        "print(elementwise_product)\n",
        "\n",
        "\n",
        "# For more useful tensor operations, plese check out their website: https://pytorch.org/tutorials/beginner/basics/tensorqs_tutorial.html"
      ]
    },
    {
      "cell_type": "markdown",
      "metadata": {
        "id": "D0_HzY0v2pL0"
      },
      "source": [
        "## PyTorch Sequential and Layers"
      ]
    },
    {
      "cell_type": "code",
      "execution_count": null,
      "metadata": {
        "colab": {
          "base_uri": "https://localhost:8080/"
        },
        "id": "8jeWgSLj2pL1",
        "outputId": "e2a47139-c3a5-4f5a-da81-8ec11200a8aa"
      },
      "outputs": [
        {
          "name": "stdout",
          "output_type": "stream",
          "text": [
            "Linear Layer Weights:\n",
            "Parameter containing:\n",
            "tensor([[-0.1112,  0.1501, -0.1235,  0.0468,  0.2121, -0.1268,  0.1969,  0.0712,\n",
            "         -0.2185, -0.0574,  0.2082, -0.0322,  0.1544,  0.1648,  0.1701, -0.0692],\n",
            "        [-0.0546,  0.1744, -0.1584,  0.0857,  0.2049, -0.2078,  0.0834,  0.1667,\n",
            "         -0.1906, -0.0987, -0.0808, -0.0703,  0.0538,  0.0262,  0.1932, -0.0949],\n",
            "        [-0.2229,  0.1737,  0.0153,  0.1098, -0.1777,  0.1416, -0.0666, -0.1991,\n",
            "          0.1704,  0.2104,  0.1938, -0.0638,  0.0368,  0.0972,  0.0733,  0.1656],\n",
            "        [-0.1997,  0.0172, -0.0082, -0.0402, -0.0148,  0.0492,  0.1979, -0.1699,\n",
            "         -0.0087,  0.0348, -0.2242,  0.1310, -0.1918,  0.0629,  0.0221, -0.0528],\n",
            "        [-0.0763, -0.2166, -0.0186,  0.0199, -0.2381,  0.1881,  0.2080,  0.0225,\n",
            "          0.2471,  0.0344,  0.1240,  0.2166, -0.0377,  0.0321, -0.0950, -0.1121],\n",
            "        [-0.1799,  0.0839,  0.2209,  0.2174, -0.1141,  0.0049,  0.0267,  0.0381,\n",
            "         -0.0486,  0.2310, -0.0205, -0.0883, -0.1523,  0.1066,  0.2226,  0.1220],\n",
            "        [-0.1729, -0.1397, -0.2482, -0.2476,  0.1310,  0.0928,  0.2074, -0.1578,\n",
            "          0.1170,  0.0451, -0.1169,  0.2303,  0.0625, -0.0634, -0.1230, -0.0143],\n",
            "        [-0.1746, -0.1228,  0.0707,  0.0959, -0.0011, -0.0694, -0.1303,  0.0654,\n",
            "          0.0599, -0.0184, -0.0085,  0.2343,  0.0620,  0.0145, -0.0178,  0.1567],\n",
            "        [ 0.2414, -0.2072,  0.0758, -0.0751, -0.0387,  0.0275, -0.2421,  0.0203,\n",
            "         -0.1034, -0.0701,  0.2037,  0.0692, -0.2334,  0.0015,  0.0321,  0.0516],\n",
            "        [ 0.0381, -0.1410,  0.0603,  0.0284,  0.1032, -0.2071,  0.1248, -0.0426,\n",
            "         -0.2116, -0.2427, -0.1054,  0.1631, -0.1107,  0.0358, -0.1339, -0.0638],\n",
            "        [ 0.0269,  0.0020,  0.0494, -0.2295,  0.2109, -0.1538, -0.0770,  0.0005,\n",
            "          0.2184, -0.0889, -0.0439,  0.0891, -0.1501, -0.0689, -0.0081, -0.1917],\n",
            "        [-0.0302,  0.0477,  0.0601,  0.0363,  0.0248, -0.0632,  0.1164, -0.2455,\n",
            "          0.1605, -0.2356,  0.0262,  0.1592,  0.1021, -0.0019, -0.1382, -0.2372],\n",
            "        [ 0.2059, -0.0026, -0.0451, -0.0398, -0.1864, -0.0861, -0.2086,  0.0292,\n",
            "         -0.1583,  0.0737,  0.0211,  0.0154,  0.0993,  0.1310, -0.1028,  0.1209],\n",
            "        [-0.0265, -0.1234,  0.1098,  0.2211,  0.0520,  0.2047,  0.0518, -0.0258,\n",
            "          0.2015, -0.2290, -0.1174,  0.1096, -0.2208, -0.0283,  0.1180, -0.1595],\n",
            "        [ 0.0185,  0.1016,  0.0777,  0.1537, -0.1522, -0.2476,  0.1881, -0.1445,\n",
            "         -0.1639,  0.0178,  0.1126, -0.1132,  0.0366,  0.0285,  0.0918,  0.2273],\n",
            "        [-0.0641,  0.1894,  0.1932, -0.1833,  0.2284,  0.2142, -0.2168,  0.1974,\n",
            "         -0.0997, -0.2061,  0.1339, -0.2428,  0.1120,  0.1602, -0.0291,  0.1075],\n",
            "        [ 0.2324, -0.0697,  0.0156,  0.1697, -0.1535,  0.1728,  0.2143,  0.2210,\n",
            "          0.0764,  0.1578, -0.1183,  0.1083,  0.0911,  0.2410,  0.1169,  0.2318],\n",
            "        [-0.2407, -0.1479,  0.0869, -0.2365,  0.1256,  0.1273,  0.1517, -0.0200,\n",
            "         -0.0100,  0.0825,  0.1047, -0.2220,  0.0251, -0.1731,  0.2080, -0.1737],\n",
            "        [ 0.1140, -0.0089,  0.2379,  0.2352, -0.0790, -0.1013, -0.2430,  0.2398,\n",
            "          0.0423,  0.2431,  0.2363,  0.0377, -0.0184,  0.0763,  0.0129, -0.0758],\n",
            "        [ 0.2320,  0.2159, -0.0426, -0.0563,  0.1971,  0.2110, -0.0938,  0.0829,\n",
            "          0.1381, -0.1310, -0.2268,  0.1580,  0.1970, -0.1168,  0.1783,  0.1377],\n",
            "        [ 0.2442,  0.2187,  0.1049,  0.0680, -0.1040,  0.2295, -0.0273, -0.1345,\n",
            "          0.1102, -0.1745,  0.2009, -0.1903, -0.0983, -0.1385,  0.1212, -0.1280],\n",
            "        [-0.0257, -0.1128, -0.2266,  0.1075, -0.1257, -0.2005, -0.1445, -0.1258,\n",
            "         -0.1401,  0.2257, -0.2317, -0.2497,  0.1371,  0.1228, -0.0944,  0.0955],\n",
            "        [ 0.0900, -0.0390, -0.0511, -0.0055, -0.0016,  0.1596, -0.1877,  0.1779,\n",
            "         -0.1373, -0.2496,  0.2221,  0.2462, -0.0103, -0.1615,  0.1020,  0.0062],\n",
            "        [-0.2451,  0.1389,  0.0324, -0.2327, -0.0463, -0.1079,  0.1854, -0.1000,\n",
            "         -0.0010, -0.1535, -0.2279, -0.0734, -0.1664, -0.0684,  0.1186,  0.2047],\n",
            "        [-0.0113, -0.0062,  0.1989,  0.2117, -0.2164, -0.1652, -0.0375,  0.0627,\n",
            "          0.1605, -0.1485, -0.0786,  0.0140, -0.1036,  0.0663,  0.2316,  0.1531],\n",
            "        [ 0.0732,  0.0753, -0.2200,  0.0054,  0.0364,  0.0524, -0.1913, -0.0981,\n",
            "          0.0572, -0.2410,  0.0650, -0.2426,  0.0494,  0.1558,  0.0647,  0.0788],\n",
            "        [-0.1895,  0.1623, -0.0532,  0.0943, -0.0830,  0.0999,  0.1681,  0.1115,\n",
            "          0.0475, -0.0844, -0.0162, -0.1714, -0.1471, -0.1025, -0.1228, -0.0806],\n",
            "        [ 0.1435, -0.0775, -0.2426, -0.0809,  0.2333,  0.2045,  0.0124,  0.0308,\n",
            "          0.1716,  0.1778,  0.2494, -0.0151,  0.0726, -0.0636,  0.2104,  0.0353],\n",
            "        [-0.0884,  0.1196, -0.2363,  0.1244,  0.1750,  0.1131, -0.2198,  0.1353,\n",
            "         -0.1872, -0.1046, -0.0207,  0.1254, -0.1115,  0.1919,  0.0413, -0.0547],\n",
            "        [-0.0956, -0.0746, -0.0462,  0.0727,  0.0173,  0.1684,  0.0152,  0.1066,\n",
            "          0.0731,  0.1407, -0.0795,  0.1041,  0.0126,  0.1332, -0.1699,  0.1840],\n",
            "        [ 0.2441, -0.2179, -0.1347, -0.1192,  0.1707,  0.1674,  0.2355,  0.2016,\n",
            "         -0.1119, -0.0768, -0.1539,  0.1628,  0.0450,  0.1214, -0.1877, -0.0890],\n",
            "        [-0.2472,  0.2132,  0.0320, -0.1465, -0.0496, -0.0954, -0.0863,  0.1749,\n",
            "          0.1032,  0.1401, -0.0748,  0.2208,  0.0773, -0.1500,  0.2204, -0.0886]],\n",
            "       requires_grad=True)\n",
            "\n",
            "Linear Layer Bias:\n",
            "Parameter containing:\n",
            "tensor([-0.1800, -0.0874, -0.1228, -0.1547,  0.1244,  0.1975, -0.1119, -0.1645,\n",
            "         0.2492,  0.0647, -0.0742, -0.0019,  0.1296, -0.1946,  0.1121,  0.1826,\n",
            "         0.1619, -0.0967, -0.1269,  0.2497, -0.0157,  0.0384, -0.2209, -0.1625,\n",
            "         0.2419, -0.2237, -0.1766, -0.0348,  0.0075,  0.1894, -0.0513,  0.0884],\n",
            "       requires_grad=True)\n",
            "\n",
            "Linear Layer Attributes:\n",
            "Linear(in_features=16, out_features=32, bias=True)\n",
            "\n",
            "Input Tensor Shape: torch.Size([1, 16])\n",
            "\n",
            "Output Tensor Shape: torch.Size([1, 32])\n",
            "\n",
            "Forwarded Tensor Result:\n",
            " tensor([[-0.0218, -0.0737,  0.0336, -0.1431,  0.2434,  0.7141, -0.3936,  0.0740,\n",
            "          0.3290, -0.0215, -0.1330, -0.1329,  0.1008,  0.1185,  0.1955,  0.1996,\n",
            "          1.1018, -0.4188,  0.4678,  0.7078, -0.0570, -0.3841, -0.2020, -0.4790,\n",
            "          0.6783, -0.4923, -0.5613,  0.2566,  0.1180,  0.4693,  0.1202,  0.2111]],\n",
            "       grad_fn=<AddmmBackward0>)\n"
          ]
        }
      ],
      "source": [
        "from numpy.core.numeric import outer\n",
        "# We now build our first neural network layers and combine them into one model\n",
        "\n",
        "# First lets define an example Linear layer.\n",
        "# Initialize a Linear layer from PyTorch of dimension (in_features=16, out_features=32).\n",
        "\n",
        "linear_layer = nn.Linear(in_features = 16, out_features = 32) # y = x*A^T + b, y = out_features, x = in_features\n",
        "\n",
        "print(\"Linear Layer Weights:\")\n",
        "print(linear_layer.weight)\n",
        "\n",
        "print(\"\\nLinear Layer Bias:\")\n",
        "print(linear_layer.bias)\n",
        "\n",
        "# Print the layer attributes and print the weight of the Linear layer\n",
        "print(\"\\nLinear Layer Attributes:\")\n",
        "print(linear_layer)\n",
        "# Forward a fitting random initialized 2d tensor through the layer and print the result\n",
        "# What is the shape of the passed (forwarded) random tensor?\n",
        "\n",
        "random_tensor = torch.rand(1, 16)    # *, 2nd dimension is equal in_feature dimension\n",
        "output = linear_layer(random_tensor) # output.shape 1x32\n",
        "print(\"\\nInput Tensor Shape:\", random_tensor.shape)\n",
        "print(\"\\nOutput Tensor Shape:\", output.shape)\n",
        "print(\"\\nForwarded Tensor Result:\\n\", output)\n",
        "\n",
        "\n",
        "\n",
        "# Why does it work to just call an initialized layer by initialized_layer(input)?\n",
        "# Check the source code for the Linear Layer and its parent 'Module' class here: https://pytorch.org/docs/stable/_modules/torch/nn/modules/linear.html#Linear\n",
        "# Explain in your own words why the forward function of the 'Linear' class is automatically called when passing an input through the layer, i. e. initialized_layer(input)\n",
        "# Hint: Check out the class inheritance!\n",
        "'''\n",
        "'Linear' is a subclass of 'Module' and a '__call__' is always triggerd when we 'Linear' function is called. And '__call__' calls 'forward' is initialized. So calling Linear automatically intializes\n",
        "'forward'\n",
        "'''\n",
        "# Build a sequential model with some linear layers stacked after each other. The number of layers is your choice, but be careful because it could cost a lot of time\n",
        "# to pass data through the sequential model afterwards. Start e. g. with three linear layers :)\n",
        "# You are not restricted to linear layers. Experiment a little bit here!\n",
        "\n",
        "# Code here\n",
        "model = nn.Sequential(\n",
        "    nn.Linear(784, 128),  # input layer (do not change the in_features size of this layer - we need it later)\n",
        "    nn.ReLU(),\n",
        "    nn.Linear(128,32),     # hidden layers\n",
        "    nn.ReLU(),\n",
        "    nn.Linear(32, 10),     # you can change the in_features of this layer but let the out_features at size 10 here - we need it layer\n",
        "    nn.Softmax(dim = 1)\n",
        ")\n"
      ]
    },
    {
      "cell_type": "markdown",
      "metadata": {
        "id": "u4wbdYcl2pL1"
      },
      "source": [
        "## PyTorch Forward Pass"
      ]
    },
    {
      "cell_type": "code",
      "execution_count": null,
      "metadata": {
        "colab": {
          "base_uri": "https://localhost:8080/",
          "height": 1000
        },
        "id": "eegfOqs-2pL1",
        "outputId": "6b08501e-af4c-43d5-b780-212592568d0e"
      },
      "outputs": [
        {
          "name": "stdout",
          "output_type": "stream",
          "text": [
            "Output Shape: torch.Size([5, 10])\n",
            "Output Probabilities:\n",
            "tensor([[0.1341, 0.0808, 0.0934, 0.1125, 0.1169, 0.1055, 0.0806, 0.1009, 0.0886,\n",
            "         0.0867],\n",
            "        [0.1304, 0.0940, 0.0945, 0.1177, 0.1024, 0.0995, 0.0986, 0.0898, 0.0929,\n",
            "         0.0802],\n",
            "        [0.1347, 0.0745, 0.1087, 0.1127, 0.1336, 0.0869, 0.0841, 0.0761, 0.1098,\n",
            "         0.0787],\n",
            "        [0.1172, 0.0867, 0.1053, 0.1086, 0.1146, 0.0925, 0.0972, 0.0937, 0.0936,\n",
            "         0.0907],\n",
            "        [0.1333, 0.0938, 0.0912, 0.0930, 0.1048, 0.0973, 0.0855, 0.1091, 0.0914,\n",
            "         0.1005]], grad_fn=<SoftmaxBackward0>)\n",
            "Image Tensor Shape: torch.Size([4, 237, 237])\n",
            "Image Tensor Content:\n",
            "tensor([[[1., 1., 1.,  ..., 1., 1., 1.],\n",
            "         [1., 1., 1.,  ..., 1., 1., 1.],\n",
            "         [1., 1., 1.,  ..., 1., 1., 1.],\n",
            "         ...,\n",
            "         [1., 1., 1.,  ..., 1., 1., 1.],\n",
            "         [1., 1., 1.,  ..., 1., 1., 1.],\n",
            "         [1., 1., 1.,  ..., 1., 1., 1.]],\n",
            "\n",
            "        [[1., 1., 1.,  ..., 1., 1., 1.],\n",
            "         [1., 1., 1.,  ..., 1., 1., 1.],\n",
            "         [1., 1., 1.,  ..., 1., 1., 1.],\n",
            "         ...,\n",
            "         [1., 1., 1.,  ..., 1., 1., 1.],\n",
            "         [1., 1., 1.,  ..., 1., 1., 1.],\n",
            "         [1., 1., 1.,  ..., 1., 1., 1.]],\n",
            "\n",
            "        [[1., 1., 1.,  ..., 1., 1., 1.],\n",
            "         [1., 1., 1.,  ..., 1., 1., 1.],\n",
            "         [1., 1., 1.,  ..., 1., 1., 1.],\n",
            "         ...,\n",
            "         [1., 1., 1.,  ..., 1., 1., 1.],\n",
            "         [1., 1., 1.,  ..., 1., 1., 1.],\n",
            "         [1., 1., 1.,  ..., 1., 1., 1.]],\n",
            "\n",
            "        [[1., 1., 1.,  ..., 1., 1., 1.],\n",
            "         [1., 1., 1.,  ..., 1., 1., 1.],\n",
            "         [1., 1., 1.,  ..., 1., 1., 1.],\n",
            "         ...,\n",
            "         [1., 1., 1.,  ..., 1., 1., 1.],\n",
            "         [1., 1., 1.,  ..., 1., 1., 1.],\n",
            "         [1., 1., 1.,  ..., 1., 1., 1.]]])\n"
          ]
        },
        {
          "data": {
            "image/png": "[encoded data removed]",
            "text/plain": [
              "<Figure size 640x480 with 1 Axes>"
            ]
          },
          "metadata": {},
          "output_type": "display_data"
        }
      ],
      "source": [
        "# We initialized our model in the previous section\n",
        "# Lets now also use the model to pass data through it\n",
        "\n",
        "# Use the following tensor and pass it through your model from above\n",
        "# You have to 'reformat' the tensor first\n",
        "data = torch.randn(size=(5, 1, 28, 28))\n",
        "\n",
        "# Reshaping the input tensor\n",
        "data_reshaped = data.view(data.size(0), -1)\n",
        "\n",
        "# Passing the reshaped data through the model\n",
        "output = model(data_reshaped)\n",
        "\n",
        "# Print the output\n",
        "print(\"Output Shape:\", output.shape)\n",
        "print(\"Output Probabilities:\")\n",
        "print(output)\n",
        "\n",
        "\n",
        "\n",
        "# read the image 'mnist_9.jpg' from the downloaded folder with the 'torchvision' python package and pass it through the network\n",
        "# How does the tensor of the image looks like? Which information is in the different dimensions?\n",
        "\n",
        "from torchvision import transforms\n",
        "from PIL import Image\n",
        "\n",
        "# Load the image using torchvision and PIL\n",
        "image_path = \"02_Experimenting_with_PyTorch\\mnist_9.jpg\"  # Replace with the actual path\n",
        "image = Image.open(image_path)\n",
        "\n",
        "# Define a transformation to preprocess the image\n",
        "transform = transforms.Compose([\n",
        "    transforms.ToTensor(),  # Convert the image to a PyTorch tensor\n",
        "])\n",
        "\n",
        "# Apply the transformation to the image\n",
        "image_tensor = transform(image)\n",
        "\n",
        "# Print the shape and content of the image tensor\n",
        "print(\"Image Tensor Shape:\", image_tensor.shape)\n",
        "print(\"Image Tensor Content:\")\n",
        "print(image_tensor)\n",
        "\n",
        "\n",
        "# visualize the image from above with matplotlib\n",
        "import matplotlib.pyplot as plt\n",
        "\n",
        "# Convert the tensor back to a numpy array\n",
        "image_np = image_tensor.numpy()\n",
        "\n",
        "# Displaying the image using matplotlib\n",
        "if image_np.shape[0] == 4:\n",
        "    # If the image has an alpha channel, remove it\n",
        "    image_np = image_np[:3, :, :]\n",
        "\n",
        "plt.imshow(image_np.transpose(1, 2, 0))\n",
        "plt.title(\"MNIST Digit 9\")\n",
        "plt.axis('off')\n",
        "plt.show()\n",
        "\n",
        "\n"
      ]
    },
    {
      "cell_type": "markdown",
      "metadata": {
        "id": "X7guwq_L2pL2"
      },
      "source": [
        "## PyTorch Neural Network Example Implementation"
      ]
    },
    {
      "cell_type": "code",
      "execution_count": 11,
      "metadata": {
        "colab": {
          "base_uri": "https://localhost:8080/",
          "height": 861
        },
        "id": "yUXGz1TU2pL2",
        "outputId": "a2e22868-293b-48bb-dd91-4c7289750936"
      },
      "outputs": [
        {
          "name": "stdout",
          "output_type": "stream",
          "text": [
            "Downloading http://yann.lecun.com/exdb/mnist/train-images-idx3-ubyte.gz\n",
            "Downloading http://yann.lecun.com/exdb/mnist/train-images-idx3-ubyte.gz to ./data/MNIST/raw/train-images-idx3-ubyte.gz\n"
          ]
        },
        {
          "name": "stderr",
          "output_type": "stream",
          "text": [
            "100%|██████████| 9912422/9912422 [00:00<00:00, 91179604.29it/s]\n"
          ]
        },
        {
          "name": "stdout",
          "output_type": "stream",
          "text": [
            "Extracting ./data/MNIST/raw/train-images-idx3-ubyte.gz to ./data/MNIST/raw\n",
            "\n",
            "Downloading http://yann.lecun.com/exdb/mnist/train-labels-idx1-ubyte.gz\n",
            "Downloading http://yann.lecun.com/exdb/mnist/train-labels-idx1-ubyte.gz to ./data/MNIST/raw/train-labels-idx1-ubyte.gz\n"
          ]
        },
        {
          "name": "stderr",
          "output_type": "stream",
          "text": [
            "100%|██████████| 28881/28881 [00:00<00:00, 73238025.29it/s]"
          ]
        },
        {
          "name": "stdout",
          "output_type": "stream",
          "text": [
            "Extracting ./data/MNIST/raw/train-labels-idx1-ubyte.gz to ./data/MNIST/raw\n",
            "\n",
            "Downloading http://yann.lecun.com/exdb/mnist/t10k-images-idx3-ubyte.gz\n",
            "Downloading http://yann.lecun.com/exdb/mnist/t10k-images-idx3-ubyte.gz to ./data/MNIST/raw/t10k-images-idx3-ubyte.gz\n"
          ]
        },
        {
          "name": "stderr",
          "output_type": "stream",
          "text": [
            "\n",
            "100%|██████████| 1648877/1648877 [00:00<00:00, 19030862.06it/s]\n"
          ]
        },
        {
          "name": "stdout",
          "output_type": "stream",
          "text": [
            "Extracting ./data/MNIST/raw/t10k-images-idx3-ubyte.gz to ./data/MNIST/raw\n",
            "\n",
            "Downloading http://yann.lecun.com/exdb/mnist/t10k-labels-idx1-ubyte.gz\n",
            "Downloading http://yann.lecun.com/exdb/mnist/t10k-labels-idx1-ubyte.gz to ./data/MNIST/raw/t10k-labels-idx1-ubyte.gz\n"
          ]
        },
        {
          "name": "stderr",
          "output_type": "stream",
          "text": [
            "100%|██████████| 4542/4542 [00:00<00:00, 13559095.21it/s]\n"
          ]
        },
        {
          "name": "stdout",
          "output_type": "stream",
          "text": [
            "Extracting ./data/MNIST/raw/t10k-labels-idx1-ubyte.gz to ./data/MNIST/raw\n",
            "\n"
          ]
        },
        {
          "name": "stderr",
          "output_type": "stream",
          "text": [
            "Training iteration 1: 100%|██████████| 15000/15000 [01:55<00:00, 130.29it/s]\n"
          ]
        },
        {
          "name": "stdout",
          "output_type": "stream",
          "text": [
            "Epoch 1 finished with loss: 1.607 and accuracy 0.857\n"
          ]
        },
        {
          "name": "stderr",
          "output_type": "stream",
          "text": [
            "Training iteration 2: 100%|██████████| 15000/15000 [01:57<00:00, 127.64it/s]\n"
          ]
        },
        {
          "name": "stdout",
          "output_type": "stream",
          "text": [
            "Epoch 2 finished with loss: 1.559 and accuracy 0.902\n"
          ]
        },
        {
          "name": "stderr",
          "output_type": "stream",
          "text": [
            "Training iteration 3: 100%|██████████| 15000/15000 [01:52<00:00, 133.90it/s]\n"
          ]
        },
        {
          "name": "stdout",
          "output_type": "stream",
          "text": [
            "Epoch 3 finished with loss: 1.554 and accuracy 0.907\n"
          ]
        },
        {
          "name": "stderr",
          "output_type": "stream",
          "text": [
            "Training iteration 4:   8%|▊         | 1168/15000 [00:09<01:49, 126.53it/s]\n"
          ]
        },
        {
          "ename": "KeyboardInterrupt",
          "evalue": "ignored",
          "output_type": "error",
          "traceback": [
            "\u001b[0;31m---------------------------------------------------------------------------\u001b[0m",
            "\u001b[0;31mKeyboardInterrupt\u001b[0m                         Traceback (most recent call last)",
            "\u001b[0;32m<ipython-input-11-c6d2195530b1>\u001b[0m in \u001b[0;36m<cell line: 64>\u001b[0;34m()\u001b[0m\n\u001b[1;32m     62\u001b[0m \u001b[0;34m\u001b[0m\u001b[0m\n\u001b[1;32m     63\u001b[0m \u001b[0;31m# Run the model training with the name of your model variable, in this case 'model'\u001b[0m\u001b[0;34m\u001b[0m\u001b[0;34m\u001b[0m\u001b[0m\n\u001b[0;32m---> 64\u001b[0;31m \u001b[0mtrain_model\u001b[0m\u001b[0;34m(\u001b[0m\u001b[0mmodel\u001b[0m\u001b[0;34m=\u001b[0m\u001b[0mmodel\u001b[0m\u001b[0;34m,\u001b[0m \u001b[0mbatch_size\u001b[0m\u001b[0;34m=\u001b[0m\u001b[0;36m4\u001b[0m\u001b[0;34m,\u001b[0m \u001b[0mepochs\u001b[0m\u001b[0;34m=\u001b[0m\u001b[0;36m10\u001b[0m\u001b[0;34m)\u001b[0m\u001b[0;34m\u001b[0m\u001b[0;34m\u001b[0m\u001b[0m\n\u001b[0m",
            "\u001b[0;32m<ipython-input-11-c6d2195530b1>\u001b[0m in \u001b[0;36mtrain_model\u001b[0;34m(model, batch_size, epochs)\u001b[0m\n\u001b[1;32m     38\u001b[0m         \u001b[0mrunning_loss\u001b[0m \u001b[0;34m=\u001b[0m \u001b[0;36m0.0\u001b[0m\u001b[0;34m\u001b[0m\u001b[0;34m\u001b[0m\u001b[0m\n\u001b[1;32m     39\u001b[0m         \u001b[0mrunning_accuracy\u001b[0m \u001b[0;34m=\u001b[0m \u001b[0;34m[\u001b[0m\u001b[0;34m]\u001b[0m\u001b[0;34m\u001b[0m\u001b[0;34m\u001b[0m\u001b[0m\n\u001b[0;32m---> 40\u001b[0;31m         \u001b[0;32mfor\u001b[0m \u001b[0mimgs\u001b[0m\u001b[0;34m,\u001b[0m \u001b[0mtargets\u001b[0m \u001b[0;32min\u001b[0m \u001b[0mtqdm\u001b[0m\u001b[0;34m.\u001b[0m\u001b[0mtqdm\u001b[0m\u001b[0;34m(\u001b[0m\u001b[0mtrain_loader\u001b[0m\u001b[0;34m,\u001b[0m \u001b[0mdesc\u001b[0m\u001b[0;34m=\u001b[0m\u001b[0;34mf'Training iteration {epoch + 1}'\u001b[0m\u001b[0;34m)\u001b[0m\u001b[0;34m:\u001b[0m\u001b[0;34m\u001b[0m\u001b[0;34m\u001b[0m\u001b[0m\n\u001b[0m\u001b[1;32m     41\u001b[0m             \u001b[0mimgs\u001b[0m\u001b[0;34m,\u001b[0m \u001b[0mtargets\u001b[0m \u001b[0;34m=\u001b[0m \u001b[0mimgs\u001b[0m\u001b[0;34m.\u001b[0m\u001b[0mto\u001b[0m\u001b[0;34m(\u001b[0m\u001b[0mdevice\u001b[0m\u001b[0;34m=\u001b[0m\u001b[0mdevice\u001b[0m\u001b[0;34m)\u001b[0m\u001b[0;34m,\u001b[0m \u001b[0mtargets\u001b[0m\u001b[0;34m.\u001b[0m\u001b[0mto\u001b[0m\u001b[0;34m(\u001b[0m\u001b[0mdevice\u001b[0m\u001b[0;34m=\u001b[0m\u001b[0mdevice\u001b[0m\u001b[0;34m)\u001b[0m\u001b[0;34m\u001b[0m\u001b[0;34m\u001b[0m\u001b[0m\n\u001b[1;32m     42\u001b[0m \u001b[0;34m\u001b[0m\u001b[0m\n",
            "\u001b[0;32m/usr/local/lib/python3.10/dist-packages/tqdm/std.py\u001b[0m in \u001b[0;36m__iter__\u001b[0;34m(self)\u001b[0m\n\u001b[1;32m   1180\u001b[0m \u001b[0;34m\u001b[0m\u001b[0m\n\u001b[1;32m   1181\u001b[0m         \u001b[0;32mtry\u001b[0m\u001b[0;34m:\u001b[0m\u001b[0;34m\u001b[0m\u001b[0;34m\u001b[0m\u001b[0m\n\u001b[0;32m-> 1182\u001b[0;31m             \u001b[0;32mfor\u001b[0m \u001b[0mobj\u001b[0m \u001b[0;32min\u001b[0m \u001b[0miterable\u001b[0m\u001b[0;34m:\u001b[0m\u001b[0;34m\u001b[0m\u001b[0;34m\u001b[0m\u001b[0m\n\u001b[0m\u001b[1;32m   1183\u001b[0m                 \u001b[0;32myield\u001b[0m \u001b[0mobj\u001b[0m\u001b[0;34m\u001b[0m\u001b[0;34m\u001b[0m\u001b[0m\n\u001b[1;32m   1184\u001b[0m                 \u001b[0;31m# Update and possibly print the progressbar.\u001b[0m\u001b[0;34m\u001b[0m\u001b[0;34m\u001b[0m\u001b[0m\n",
            "\u001b[0;32m/usr/local/lib/python3.10/dist-packages/torch/utils/data/dataloader.py\u001b[0m in \u001b[0;36m__next__\u001b[0;34m(self)\u001b[0m\n\u001b[1;32m    628\u001b[0m                 \u001b[0;31m# TODO(https://github.com/pytorch/pytorch/issues/76750)\u001b[0m\u001b[0;34m\u001b[0m\u001b[0;34m\u001b[0m\u001b[0m\n\u001b[1;32m    629\u001b[0m                 \u001b[0mself\u001b[0m\u001b[0;34m.\u001b[0m\u001b[0m_reset\u001b[0m\u001b[0;34m(\u001b[0m\u001b[0;34m)\u001b[0m  \u001b[0;31m# type: ignore[call-arg]\u001b[0m\u001b[0;34m\u001b[0m\u001b[0;34m\u001b[0m\u001b[0m\n\u001b[0;32m--> 630\u001b[0;31m             \u001b[0mdata\u001b[0m \u001b[0;34m=\u001b[0m \u001b[0mself\u001b[0m\u001b[0;34m.\u001b[0m\u001b[0m_next_data\u001b[0m\u001b[0;34m(\u001b[0m\u001b[0;34m)\u001b[0m\u001b[0;34m\u001b[0m\u001b[0;34m\u001b[0m\u001b[0m\n\u001b[0m\u001b[1;32m    631\u001b[0m             \u001b[0mself\u001b[0m\u001b[0;34m.\u001b[0m\u001b[0m_num_yielded\u001b[0m \u001b[0;34m+=\u001b[0m \u001b[0;36m1\u001b[0m\u001b[0;34m\u001b[0m\u001b[0;34m\u001b[0m\u001b[0m\n\u001b[1;32m    632\u001b[0m             \u001b[0;32mif\u001b[0m \u001b[0mself\u001b[0m\u001b[0;34m.\u001b[0m\u001b[0m_dataset_kind\u001b[0m \u001b[0;34m==\u001b[0m \u001b[0m_DatasetKind\u001b[0m\u001b[0;34m.\u001b[0m\u001b[0mIterable\u001b[0m \u001b[0;32mand\u001b[0m\u001b[0;31m \u001b[0m\u001b[0;31m\\\u001b[0m\u001b[0;34m\u001b[0m\u001b[0;34m\u001b[0m\u001b[0m\n",
            "\u001b[0;32m/usr/local/lib/python3.10/dist-packages/torch/utils/data/dataloader.py\u001b[0m in \u001b[0;36m_next_data\u001b[0;34m(self)\u001b[0m\n\u001b[1;32m   1326\u001b[0m \u001b[0;34m\u001b[0m\u001b[0m\n\u001b[1;32m   1327\u001b[0m             \u001b[0;32massert\u001b[0m \u001b[0;32mnot\u001b[0m \u001b[0mself\u001b[0m\u001b[0;34m.\u001b[0m\u001b[0m_shutdown\u001b[0m \u001b[0;32mand\u001b[0m \u001b[0mself\u001b[0m\u001b[0;34m.\u001b[0m\u001b[0m_tasks_outstanding\u001b[0m \u001b[0;34m>\u001b[0m \u001b[0;36m0\u001b[0m\u001b[0;34m\u001b[0m\u001b[0;34m\u001b[0m\u001b[0m\n\u001b[0;32m-> 1328\u001b[0;31m             \u001b[0midx\u001b[0m\u001b[0;34m,\u001b[0m \u001b[0mdata\u001b[0m \u001b[0;34m=\u001b[0m \u001b[0mself\u001b[0m\u001b[0;34m.\u001b[0m\u001b[0m_get_data\u001b[0m\u001b[0;34m(\u001b[0m\u001b[0;34m)\u001b[0m\u001b[0;34m\u001b[0m\u001b[0;34m\u001b[0m\u001b[0m\n\u001b[0m\u001b[1;32m   1329\u001b[0m             \u001b[0mself\u001b[0m\u001b[0;34m.\u001b[0m\u001b[0m_tasks_outstanding\u001b[0m \u001b[0;34m-=\u001b[0m \u001b[0;36m1\u001b[0m\u001b[0;34m\u001b[0m\u001b[0;34m\u001b[0m\u001b[0m\n\u001b[1;32m   1330\u001b[0m             \u001b[0;32mif\u001b[0m \u001b[0mself\u001b[0m\u001b[0;34m.\u001b[0m\u001b[0m_dataset_kind\u001b[0m \u001b[0;34m==\u001b[0m \u001b[0m_DatasetKind\u001b[0m\u001b[0;34m.\u001b[0m\u001b[0mIterable\u001b[0m\u001b[0;34m:\u001b[0m\u001b[0;34m\u001b[0m\u001b[0;34m\u001b[0m\u001b[0m\n",
            "\u001b[0;32m/usr/local/lib/python3.10/dist-packages/torch/utils/data/dataloader.py\u001b[0m in \u001b[0;36m_get_data\u001b[0;34m(self)\u001b[0m\n\u001b[1;32m   1292\u001b[0m         \u001b[0;32melse\u001b[0m\u001b[0;34m:\u001b[0m\u001b[0;34m\u001b[0m\u001b[0;34m\u001b[0m\u001b[0m\n\u001b[1;32m   1293\u001b[0m             \u001b[0;32mwhile\u001b[0m \u001b[0;32mTrue\u001b[0m\u001b[0;34m:\u001b[0m\u001b[0;34m\u001b[0m\u001b[0;34m\u001b[0m\u001b[0m\n\u001b[0;32m-> 1294\u001b[0;31m                 \u001b[0msuccess\u001b[0m\u001b[0;34m,\u001b[0m \u001b[0mdata\u001b[0m \u001b[0;34m=\u001b[0m \u001b[0mself\u001b[0m\u001b[0;34m.\u001b[0m\u001b[0m_try_get_data\u001b[0m\u001b[0;34m(\u001b[0m\u001b[0;34m)\u001b[0m\u001b[0;34m\u001b[0m\u001b[0;34m\u001b[0m\u001b[0m\n\u001b[0m\u001b[1;32m   1295\u001b[0m                 \u001b[0;32mif\u001b[0m \u001b[0msuccess\u001b[0m\u001b[0;34m:\u001b[0m\u001b[0;34m\u001b[0m\u001b[0;34m\u001b[0m\u001b[0m\n\u001b[1;32m   1296\u001b[0m                     \u001b[0;32mreturn\u001b[0m \u001b[0mdata\u001b[0m\u001b[0;34m\u001b[0m\u001b[0;34m\u001b[0m\u001b[0m\n",
            "\u001b[0;32m/usr/local/lib/python3.10/dist-packages/torch/utils/data/dataloader.py\u001b[0m in \u001b[0;36m_try_get_data\u001b[0;34m(self, timeout)\u001b[0m\n\u001b[1;32m   1130\u001b[0m         \u001b[0;31m#   (bool: whether successfully get data, any: data if successful else None)\u001b[0m\u001b[0;34m\u001b[0m\u001b[0;34m\u001b[0m\u001b[0m\n\u001b[1;32m   1131\u001b[0m         \u001b[0;32mtry\u001b[0m\u001b[0;34m:\u001b[0m\u001b[0;34m\u001b[0m\u001b[0;34m\u001b[0m\u001b[0m\n\u001b[0;32m-> 1132\u001b[0;31m             \u001b[0mdata\u001b[0m \u001b[0;34m=\u001b[0m \u001b[0mself\u001b[0m\u001b[0;34m.\u001b[0m\u001b[0m_data_queue\u001b[0m\u001b[0;34m.\u001b[0m\u001b[0mget\u001b[0m\u001b[0;34m(\u001b[0m\u001b[0mtimeout\u001b[0m\u001b[0;34m=\u001b[0m\u001b[0mtimeout\u001b[0m\u001b[0;34m)\u001b[0m\u001b[0;34m\u001b[0m\u001b[0;34m\u001b[0m\u001b[0m\n\u001b[0m\u001b[1;32m   1133\u001b[0m             \u001b[0;32mreturn\u001b[0m \u001b[0;34m(\u001b[0m\u001b[0;32mTrue\u001b[0m\u001b[0;34m,\u001b[0m \u001b[0mdata\u001b[0m\u001b[0;34m)\u001b[0m\u001b[0;34m\u001b[0m\u001b[0;34m\u001b[0m\u001b[0m\n\u001b[1;32m   1134\u001b[0m         \u001b[0;32mexcept\u001b[0m \u001b[0mException\u001b[0m \u001b[0;32mas\u001b[0m \u001b[0me\u001b[0m\u001b[0;34m:\u001b[0m\u001b[0;34m\u001b[0m\u001b[0;34m\u001b[0m\u001b[0m\n",
            "\u001b[0;32m/usr/lib/python3.10/multiprocessing/queues.py\u001b[0m in \u001b[0;36mget\u001b[0;34m(self, block, timeout)\u001b[0m\n\u001b[1;32m    120\u001b[0m                 \u001b[0mself\u001b[0m\u001b[0;34m.\u001b[0m\u001b[0m_rlock\u001b[0m\u001b[0;34m.\u001b[0m\u001b[0mrelease\u001b[0m\u001b[0;34m(\u001b[0m\u001b[0;34m)\u001b[0m\u001b[0;34m\u001b[0m\u001b[0;34m\u001b[0m\u001b[0m\n\u001b[1;32m    121\u001b[0m         \u001b[0;31m# unserialize the data after having released the lock\u001b[0m\u001b[0;34m\u001b[0m\u001b[0;34m\u001b[0m\u001b[0m\n\u001b[0;32m--> 122\u001b[0;31m         \u001b[0;32mreturn\u001b[0m \u001b[0m_ForkingPickler\u001b[0m\u001b[0;34m.\u001b[0m\u001b[0mloads\u001b[0m\u001b[0;34m(\u001b[0m\u001b[0mres\u001b[0m\u001b[0;34m)\u001b[0m\u001b[0;34m\u001b[0m\u001b[0;34m\u001b[0m\u001b[0m\n\u001b[0m\u001b[1;32m    123\u001b[0m \u001b[0;34m\u001b[0m\u001b[0m\n\u001b[1;32m    124\u001b[0m     \u001b[0;32mdef\u001b[0m \u001b[0mqsize\u001b[0m\u001b[0;34m(\u001b[0m\u001b[0mself\u001b[0m\u001b[0;34m)\u001b[0m\u001b[0;34m:\u001b[0m\u001b[0;34m\u001b[0m\u001b[0;34m\u001b[0m\u001b[0m\n",
            "\u001b[0;32m/usr/local/lib/python3.10/dist-packages/torch/multiprocessing/reductions.py\u001b[0m in \u001b[0;36mrebuild_storage_fd\u001b[0;34m(cls, df, size)\u001b[0m\n\u001b[1;32m    359\u001b[0m             \u001b[0;32mreturn\u001b[0m \u001b[0mstorage\u001b[0m\u001b[0;34m\u001b[0m\u001b[0;34m\u001b[0m\u001b[0m\n\u001b[1;32m    360\u001b[0m         \u001b[0mstorage\u001b[0m \u001b[0;34m=\u001b[0m \u001b[0mcls\u001b[0m\u001b[0;34m.\u001b[0m\u001b[0m_new_shared_fd_cpu\u001b[0m\u001b[0;34m(\u001b[0m\u001b[0mfd\u001b[0m\u001b[0;34m,\u001b[0m \u001b[0msize\u001b[0m\u001b[0;34m)\u001b[0m\u001b[0;34m\u001b[0m\u001b[0;34m\u001b[0m\u001b[0m\n\u001b[0;32m--> 361\u001b[0;31m         \u001b[0mshared_cache\u001b[0m\u001b[0;34m[\u001b[0m\u001b[0mfd_id\u001b[0m\u001b[0;34m(\u001b[0m\u001b[0mfd\u001b[0m\u001b[0;34m)\u001b[0m\u001b[0;34m]\u001b[0m \u001b[0;34m=\u001b[0m \u001b[0mStorageWeakRef\u001b[0m\u001b[0;34m(\u001b[0m\u001b[0mstorage\u001b[0m\u001b[0;34m)\u001b[0m\u001b[0;34m\u001b[0m\u001b[0;34m\u001b[0m\u001b[0m\n\u001b[0m\u001b[1;32m    362\u001b[0m         \u001b[0;32mreturn\u001b[0m \u001b[0mstorage\u001b[0m\u001b[0;34m\u001b[0m\u001b[0;34m\u001b[0m\u001b[0m\n\u001b[1;32m    363\u001b[0m     \u001b[0;32mfinally\u001b[0m\u001b[0;34m:\u001b[0m\u001b[0;34m\u001b[0m\u001b[0;34m\u001b[0m\u001b[0m\n",
            "\u001b[0;32m/usr/local/lib/python3.10/dist-packages/torch/multiprocessing/reductions.py\u001b[0m in \u001b[0;36m__init__\u001b[0;34m(self, storage)\u001b[0m\n\u001b[1;32m     30\u001b[0m \u001b[0;34m\u001b[0m\u001b[0m\n\u001b[1;32m     31\u001b[0m     \u001b[0;32mdef\u001b[0m \u001b[0m__init__\u001b[0m\u001b[0;34m(\u001b[0m\u001b[0mself\u001b[0m\u001b[0;34m,\u001b[0m \u001b[0mstorage\u001b[0m\u001b[0;34m)\u001b[0m\u001b[0;34m:\u001b[0m\u001b[0;34m\u001b[0m\u001b[0;34m\u001b[0m\u001b[0m\n\u001b[0;32m---> 32\u001b[0;31m         \u001b[0mself\u001b[0m\u001b[0;34m.\u001b[0m\u001b[0mcdata\u001b[0m \u001b[0;34m=\u001b[0m \u001b[0mstorage\u001b[0m\u001b[0;34m.\u001b[0m\u001b[0m_weak_ref\u001b[0m\u001b[0;34m(\u001b[0m\u001b[0;34m)\u001b[0m\u001b[0;34m\u001b[0m\u001b[0;34m\u001b[0m\u001b[0m\n\u001b[0m\u001b[1;32m     33\u001b[0m         \u001b[0;31m# Save a direct reference to _free_weak_ref because the `torch` module\u001b[0m\u001b[0;34m\u001b[0m\u001b[0;34m\u001b[0m\u001b[0m\n\u001b[1;32m     34\u001b[0m         \u001b[0;31m# might be cleared during Python shutdown before this module is cleared.\u001b[0m\u001b[0;34m\u001b[0m\u001b[0;34m\u001b[0m\u001b[0m\n",
            "\u001b[0;31mKeyboardInterrupt\u001b[0m: "
          ]
        }
      ],
      "source": [
        "# This is only the application of your defined model\n",
        "# You can use the following method to train your model and check its accuracy. You can also use parts of the code below for the following practicals.\n",
        "# Just execute this box and it uses the predefined model from the previous task to run a training procedure. The variable name of the model must be 'model' (or change it accordingly).\n",
        "# ATTENTION: No worries if you don't understand the implementation. This is just for showing you how your defined model performs in terms of accuracy.\n",
        "# We will discuss everything in this code in future practicals.\n",
        "\n",
        "# Refine your model multiple times and see how the different models perform in terms of accuracy.\n",
        "\n",
        "# We use the MNIST dataset to set the model\n",
        "import torchvision\n",
        "import torchvision.transforms as transforms\n",
        "import tqdm\n",
        "\n",
        "def load_mnist_data(root_path='./data', batch_size=4):\n",
        "    transform = transforms.Compose(\n",
        "        [transforms.ToTensor(),\n",
        "        transforms.Normalize((0.5), (0.5))]\n",
        "    )\n",
        "\n",
        "    trainset = torchvision.datasets.MNIST(root=root_path, train=True, download=True, transform=transform)\n",
        "    trainloader = torch.utils.data.DataLoader(trainset, batch_size=batch_size, shuffle=True, num_workers=2)\n",
        "\n",
        "    testset = torchvision.datasets.MNIST(root=root_path, train=False, download=True, transform=transform)\n",
        "    testloader = torch.utils.data.DataLoader(testset, batch_size=batch_size, shuffle=False, num_workers=2)\n",
        "\n",
        "    return trainloader, testloader\n",
        "\n",
        "\n",
        "def train_model(model, batch_size: int = 4, epochs: int = 10):\n",
        "    # we only consider the mnist train data for this example\n",
        "    train_loader, _ = load_mnist_data(root_path='./data', batch_size=batch_size)\n",
        "\n",
        "    device = torch.device('cuda') if torch.cuda.is_available() else torch.device('cpu')\n",
        "    criterion = nn.CrossEntropyLoss()\n",
        "    optimizer = torch.optim.Adam(model.parameters(), lr=0.001)\n",
        "\n",
        "    for epoch in range(epochs):\n",
        "        running_loss = 0.0\n",
        "        running_accuracy = []\n",
        "        for imgs, targets in tqdm.tqdm(train_loader, desc=f'Training iteration {epoch + 1}'):\n",
        "            imgs, targets = imgs.to(device=device), targets.to(device=device)\n",
        "\n",
        "            # zero the parameter gradients\n",
        "            optimizer.zero_grad()\n",
        "\n",
        "            # forward + backward + optimize\n",
        "            outputs = model(imgs.reshape(imgs.shape[0], -1))\n",
        "            loss = criterion(outputs, targets)\n",
        "            loss.backward()\n",
        "            optimizer.step()\n",
        "\n",
        "            # print statistics\n",
        "            running_loss += loss.item()\n",
        "\n",
        "            # Calculate the Accuracy (how many of all samples are correctly classified?)\n",
        "            max_outputs = torch.max(outputs, dim=1).indices\n",
        "            accuracy = (max_outputs.detach() == targets.detach()).to(dtype=torch.float32).mean()\n",
        "            running_accuracy.append(accuracy)\n",
        "\n",
        "        print(f'Epoch {epoch + 1} finished with loss: {running_loss / len(train_loader):.3f} and accuracy {torch.tensor(running_accuracy).mean():.3f}')\n",
        "\n",
        "\n",
        "# Run the model training with the name of your model variable, in this case 'model'\n",
        "train_model(model=model, batch_size=4, epochs=10)"
      ]
    }
  ],
  "metadata": {
    "colab": {
      "provenance": []
    },
    "kernelspec": {
      "display_name": "Python 3 (ipykernel)",
      "language": "python",
      "name": "python3"
    },
    "language_info": {
      "codemirror_mode": {
        "name": "ipython",
        "version": 3
      },
      "file_extension": ".py",
      "mimetype": "text/x-python",
      "name": "python",
      "nbconvert_exporter": "python",
      "pygments_lexer": "ipython3",
      "version": "3.9.18"
    },
    "vscode": {
      "interpreter": {
        "hash": "25301cabe4c6f833fd20f15b1b22933971919908771eb627a83fe325b4fb6671"
      }
    }
  },
  "nbformat": 4,
  "nbformat_minor": 0
}
