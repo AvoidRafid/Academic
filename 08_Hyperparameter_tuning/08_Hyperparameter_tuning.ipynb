{
 "cells": [
  {
   "cell_type": "markdown",
   "metadata": {},
   "source": [
    "# Hyperparameter tuning"
   ]
  },
  {
   "attachments": {},
   "cell_type": "raw",
   "metadata": {},
   "source": [
    "Hyperparameter tuning of a model consisting of linear layers with optuna.\n",
    "\n",
    " Install the python packages:\n",
    " - optuna\n",
    " - optuna-dashboard\n",
    "\n",
    "# See https://optuna.org/ for details about Optuna"
   ]
  },
  {
   "cell_type": "markdown",
   "metadata": {},
   "source": [
    "## Dataset"
   ]
  },
  {
   "cell_type": "code",
   "execution_count": null,
   "metadata": {},
   "outputs": [],
   "source": [
    "# Use the below functionality to execute your model (that you will adjust later step by step)\n",
    "# This block of code provides you the functionality to train a model. Results are printed after each epoch\n",
    "\n",
    "import torch\n",
    "import torch.nn as nn\n",
    "import torchvision\n",
    "import torchvision.transforms as transforms\n",
    "import tqdm\n",
    "\n",
    "\n",
    "def load_mnist_data(root_path='./data', batch_size=4):\n",
    "    \"\"\"\n",
    "    Loads MNIST dataset into your directory.\n",
    "    You can change the root_path to point to a already existing path if you want to safe a little bit of memory :)\n",
    "    \"\"\"\n",
    "    transform = transforms.Compose(\n",
    "        [transforms.ToTensor(),\n",
    "        transforms.Normalize((0.5), (0.5))]\n",
    "    )\n",
    "\n",
    "    trainset = torchvision.datasets.MNIST(root='./data', train=True, download=True, transform=transform)\n",
    "    trainloader = torch.utils.data.DataLoader(trainset, batch_size=batch_size, shuffle=True, num_workers=2)\n",
    "\n",
    "    testset = torchvision.datasets.MNIST(root='./data', train=False, download=True, transform=transform)\n",
    "    testloader = torch.utils.data.DataLoader(testset, batch_size=batch_size, shuffle=False, num_workers=2)\n",
    "\n",
    "    return trainloader, testloader"
   ]
  },
  {
   "attachments": {},
   "cell_type": "markdown",
   "metadata": {},
   "source": [
    "## Training loops"
   ]
  },
  {
   "cell_type": "code",
   "execution_count": null,
   "metadata": {},
   "outputs": [],
   "source": [
    "def train_model(model, optimizer, loss_fn, dataloader):\n",
    "    device = torch.device('cuda') if torch.cuda.is_available() else torch.device('cpu')\n",
    "\n",
    "    model = model.to(device)\n",
    "    model.train()\n",
    "\n",
    "    running_loss = 0.0\n",
    "    running_accuracy = []\n",
    "    for imgs, targets in dataloader:\n",
    "        imgs, targets = imgs.to(device=device), targets.to(device=device)\n",
    "\n",
    "        # zero the parameter gradients\n",
    "        optimizer.zero_grad()\n",
    "\n",
    "        # forward + backward + optimize\n",
    "        outputs = model(imgs.reshape(imgs.shape[0], -1))\n",
    "\n",
    "        loss = loss_fn(outputs, targets)\n",
    "        loss.backward()\n",
    "        optimizer.step()\n",
    "\n",
    "        # print statistics\n",
    "        running_loss += loss.item()\n",
    "\n",
    "        # Calculate the Accuracy (how many of all samples are correctly classified?)\n",
    "        max_outputs = torch.max(outputs, dim=1).indices\n",
    "        accuracy = (max_outputs.detach() == targets.detach()).to(dtype=torch.float32).mean()\n",
    "        running_accuracy.append(accuracy)\n",
    "    \n",
    "    avg_loss = running_loss / len(dataloader)\n",
    "    avg_acc = torch.tensor(running_accuracy).mean()\n",
    "    # print(f'Training iteration finished with loss: {avg_loss:.3f} and accuracy {avg_acc:.3f}')\n",
    "\n",
    "    return avg_loss, avg_acc\n",
    "\n",
    "\n",
    "def eval_model(model, loss_fn, dataloader):\n",
    "    device = torch.device('cuda') if torch.cuda.is_available() else torch.device('cpu')\n",
    "\n",
    "    model = model.to(device)\n",
    "    model.eval()\n",
    "\n",
    "    running_loss = 0.0\n",
    "    running_accuracy = []\n",
    "    with torch.no_grad():\n",
    "        for imgs, targets in dataloader:\n",
    "            imgs, targets = imgs.to(device=device), targets.to(device=device)\n",
    "\n",
    "            # forward + backward + optimize\n",
    "            outputs = model(imgs.reshape(imgs.shape[0], -1))\n",
    "\n",
    "            loss = loss_fn(outputs, targets)\n",
    "\n",
    "            # print statistics\n",
    "            running_loss += loss.item()\n",
    "\n",
    "            # Calculate the Accuracy (how many of all samples are correctly classified?)\n",
    "            max_outputs = torch.max(outputs, dim=1).indices\n",
    "            accuracy = (max_outputs.detach() == targets.detach()).to(dtype=torch.float32).mean()\n",
    "            running_accuracy.append(accuracy)\n",
    "    \n",
    "    avg_loss = running_loss / len(dataloader)\n",
    "    avg_acc = torch.tensor(running_accuracy).mean()\n",
    "    # print(f'Evaluation iteration finished with loss: {avg_loss:.3f} and accuracy {avg_acc:.3f}')\n",
    "\n",
    "    return avg_loss, avg_acc\n",
    "\n",
    "\n",
    "def operate(model, optimizer, loss_fn, train_dataloader, test_dataloader, epochs):\n",
    "    t_losses, t_accs = [], []\n",
    "    e_losses, e_accs = [], []\n",
    "    for epoch in range(0, epochs):\n",
    "        t_avg_loss, t_avg_acc = train_model(\n",
    "            model, optimizer, loss_fn, train_dataloader\n",
    "        )\n",
    "        t_losses.append(t_avg_loss)\n",
    "        t_accs.append(t_accs)\n",
    "\n",
    "        e_avg_loss, e_avg_acc = eval_model(\n",
    "            model, loss_fn, test_dataloader\n",
    "        )\n",
    "        e_losses.append(e_avg_loss)\n",
    "        e_accs.append(e_accs)\n",
    "\n",
    "    return torch.as_tensor(t_losses), torch.as_tensor(t_accs), torch.as_tensor(e_losses), torch.as_tensor(e_accs)"
   ]
  },
  {
   "attachments": {},
   "cell_type": "markdown",
   "metadata": {},
   "source": [
    "## Define your model"
   ]
  },
  {
   "cell_type": "code",
   "execution_count": null,
   "metadata": {},
   "outputs": [],
   "source": [
    "# use two parameters to create your model\n",
    "# 1) the amount of hidden layers\n",
    "# 2) the neurons per hidden layer\n",
    "\n",
    "# we tune those two parameters with Optuna"
   ]
  },
  {
   "cell_type": "code",
   "execution_count": null,
   "metadata": {},
   "outputs": [],
   "source": [
    "from torch.nn import Linear\n",
    "\n",
    "def build_model(trial):\n",
    "    layers = []\n",
    "\n",
    "    n_layers = trial.suggest_int(...)\n",
    "    n_neurons_per_layer = trial.suggest_int(...)\n",
    "\n",
    "    return # your_model"
   ]
  },
  {
   "attachments": {},
   "cell_type": "markdown",
   "metadata": {},
   "source": [
    "## Define your objective with optuna hyperparameter tuning"
   ]
  },
  {
   "cell_type": "code",
   "execution_count": null,
   "metadata": {},
   "outputs": [],
   "source": [
    "# find the best hyperparameters for\n",
    "# 1) the amount of hidden layers\n",
    "# 2) the neurons per hidden layer\n",
    "# 3) batch size\n",
    "# 4) learning rate\n",
    "\n",
    "DEVICE = torch.device('cuda') if torch.cuda.is_available() else torch.device('cpu')\n",
    "loss_fn = \n",
    "EPOCHS = 10"
   ]
  },
  {
   "cell_type": "code",
   "execution_count": null,
   "metadata": {},
   "outputs": [],
   "source": [
    "import optuna\n",
    "from torch.optim import Adam\n",
    "import tqdm\n",
    "\n",
    "\n",
    "def objective(trial):\n",
    "    model = build_model(trial).to(DEVICE)\n",
    "\n",
    "    lr = trial.suggest_float\n",
    "    batch_size = trial.suggest_categorical\n",
    "\n",
    "    optimizer = # your optimizer\n",
    "\n",
    "    train_loader, test_loader = load_mnist_data(batch_size=batch_size)\n",
    "\n",
    "    for epoch in tqdm.tqdm(range(EPOCHS), desc='Iterating epoch'):\n",
    "        # training and evaluation of your model\n",
    "\n",
    "    \n",
    "    return # the evaluation accuracy after ith epoch\n"
   ]
  },
  {
   "attachments": {},
   "cell_type": "markdown",
   "metadata": {},
   "source": [
    "## Run the optuna study"
   ]
  },
  {
   "cell_type": "code",
   "execution_count": null,
   "metadata": {},
   "outputs": [],
   "source": [
    "from optuna.trial import TrialState\n",
    "\n",
    "# Add stream handler of stdout to show the messages\n",
    "study_name = \"example-study\"  # Unique identifier of the study.\n",
    "storage_name = \"sqlite:///{}.db\".format(study_name)\n",
    "study = optuna.create_study(study_name=study_name, storage=storage_name, direction='maximize')\n",
    "\n",
    "study.optimize(objective, n_trials=15)\n",
    "\n",
    "pruned_trials = study.get_trials(deepcopy=False, states=[TrialState.PRUNED])\n",
    "complete_trials = study.get_trials(deepcopy=False, states=[TrialState.COMPLETE])\n",
    "\n",
    "print(\"Study statistics: \")\n",
    "print(\"  Number of finished trials: \", len(study.trials))\n",
    "print(\"  Number of pruned trials: \", len(pruned_trials))\n",
    "print(\"  Number of complete trials: \", len(complete_trials))\n",
    "\n",
    "print(\"Best trial:\")\n",
    "trial = study.best_trial\n",
    "\n",
    "print(\"  Value: \", trial.value)\n",
    "\n",
    "print(\"  Params: \")\n",
    "for key, value in trial.params.items():\n",
    "    print(\"    {}: {}\".format(key, value))"
   ]
  },
  {
   "attachments": {},
   "cell_type": "markdown",
   "metadata": {},
   "source": [
    "## Open the optuna trial with optuna-dashboard"
   ]
  },
  {
   "cell_type": "raw",
   "metadata": {},
   "source": [
    "You can open the optuna dashboard by typing \n",
    "\"optuna-dashboard sqlite:///path_to_your_file.db\"\n",
    "into your command line (python environment)\n",
    "\n",
    "\n",
    "Which model parameters are best to get the highest accuracy?\n",
    "\n",
    "\n",
    "Check the dashboard for more details..."
   ]
  }
 ],
 "metadata": {
  "kernelspec": {
   "display_name": "aai_2",
   "language": "python",
   "name": "python3"
  },
  "language_info": {
   "codemirror_mode": {
    "name": "ipython",
    "version": 3
   },
   "file_extension": ".py",
   "mimetype": "text/x-python",
   "name": "python",
   "nbconvert_exporter": "python",
   "pygments_lexer": "ipython3",
   "version": "3.9.13 (main, Aug 25 2022, 23:51:50) [MSC v.1916 64 bit (AMD64)]"
  },
  "orig_nbformat": 4,
  "vscode": {
   "interpreter": {
    "hash": "25301cabe4c6f833fd20f15b1b22933971919908771eb627a83fe325b4fb6671"
   }
  }
 },
 "nbformat": 4,
 "nbformat_minor": 2
}
