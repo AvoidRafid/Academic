{
 "cells": [
  {
   "cell_type": "markdown",
   "metadata": {},
   "source": [
    "# Weight Initialization"
   ]
  },
  {
   "cell_type": "raw",
   "metadata": {},
   "source": [
    "We need the Python packages for PyTorch and matplotlib for this practical."
   ]
  },
  {
   "cell_type": "markdown",
   "metadata": {},
   "source": [
    "## Our test model for this practical task"
   ]
  },
  {
   "cell_type": "code",
   "execution_count": 16,
   "metadata": {},
   "outputs": [],
   "source": [
    "# Use the below functionality to execute your model (that you will adjust later step by step)\n",
    "# This block of code provides you the functionality to train a model. Results are printed after each epoch\n",
    "\n",
    "import torch\n",
    "import torch.nn as nn\n",
    "import torchvision\n",
    "import torchvision.transforms as transforms\n",
    "import tqdm\n",
    "\n",
    "\n",
    "def load_mnist_data(root_path='./data', batch_size=4):\n",
    "    \"\"\"\n",
    "    Loads MNIST dataset into your directory.\n",
    "    You can change the root_path to point to a already existing path if you want to safe a little bit of memory :)\n",
    "    \"\"\"\n",
    "    transform = transforms.Compose(\n",
    "        [transforms.ToTensor(),\n",
    "        transforms.Normalize((0.5), (0.5))]\n",
    "    )\n",
    "\n",
    "    trainset = torchvision.datasets.MNIST(root=root_path, train=True, download=True, transform=transform)\n",
    "    trainloader = torch.utils.data.DataLoader(trainset, batch_size=batch_size, shuffle=True, num_workers=2)\n",
    "\n",
    "    testset = torchvision.datasets.MNIST(root=root_path, train=False, download=True, transform=transform)\n",
    "    testloader = torch.utils.data.DataLoader(testset, batch_size=batch_size, shuffle=False, num_workers=2)\n",
    "\n",
    "    print(f'Train Set: {len(trainset)}')\n",
    "    print(f'Test Set: {len(testset)}')\n",
    "\n",
    "    return trainloader, testloader\n",
    "\n",
    "\n",
    "def train_model(model, batch_size: int = 4, epochs: int = 10):\n",
    "    # we only consider the mnist train data for this example\n",
    "    train_loader, _ = load_mnist_data(root_path='./data', batch_size=batch_size)\n",
    "\n",
    "    device = torch.device('cuda') if torch.cuda.is_available() else torch.device('cpu')\n",
    "\n",
    "    model = model.to(device=device)\n",
    "\n",
    "    criterion = nn.CrossEntropyLoss()\n",
    "    optimizer = torch.optim.SGD(model.parameters(), lr=0.001)\n",
    "\n",
    "    iterations = 0\n",
    "    for epoch in range(epochs):\n",
    "        running_loss = 0.0\n",
    "        running_accuracy = []\n",
    "        for imgs, targets in tqdm.tqdm(train_loader, desc=f'Training iteration {epoch + 1}'):\n",
    "            iterations += 1\n",
    "            imgs, targets = imgs.to(device=device), targets.to(device=device)\n",
    "\n",
    "            # zero the parameter gradients\n",
    "            optimizer.zero_grad()\n",
    "\n",
    "            # forward + backward + optimize\n",
    "            outputs = model(imgs.reshape(imgs.shape[0], -1))\n",
    "\n",
    "            loss = criterion(outputs, targets)\n",
    "            loss.backward()\n",
    "            optimizer.step()\n",
    "\n",
    "            # print statistics\n",
    "            running_loss += loss.item()\n",
    "\n",
    "            # Calculate the Accuracy (how many of all samples are correctly classified?)\n",
    "            max_outputs = torch.max(outputs, dim=1).indices\n",
    "            accuracy = (max_outputs.detach() == targets.detach()).to(dtype=torch.float32).mean()\n",
    "            running_accuracy.append(accuracy)\n",
    "    \n",
    "        print(f'Epoch {epoch + 1} finished with loss: {running_loss / len(train_loader):.3f} and accuracy {torch.tensor(running_accuracy).mean():.3f}')"
   ]
  },
  {
   "cell_type": "code",
   "execution_count": 17,
   "metadata": {},
   "outputs": [
    {
     "name": "stdout",
     "output_type": "stream",
     "text": [
      "Train Set: 60000\n",
      "Test Set: 10000\n"
     ]
    },
    {
     "data": {
      "text/plain": [
       "(<torch.utils.data.dataloader.DataLoader at 0x29b40115f70>,\n",
       " <torch.utils.data.dataloader.DataLoader at 0x29b4012c160>)"
      ]
     },
     "execution_count": 17,
     "metadata": {},
     "output_type": "execute_result"
    }
   ],
   "source": [
    "load_mnist_data()\n"
   ]
  },
  {
   "cell_type": "markdown",
   "metadata": {},
   "source": [
    "## Training progress with different weight settings"
   ]
  },
  {
   "cell_type": "code",
   "execution_count": 18,
   "metadata": {},
   "outputs": [],
   "source": [
    "# You can use this model for your tests (of course you can change the architecture a little, but it should not be necessary.)\n",
    "import torch\n",
    "import torch.nn as nn\n",
    "\n",
    "\n",
    "model = nn.Sequential(\n",
    "    nn.Linear(784, 32),  # input layer (do not change the in_features size of this layer - we need it later)\n",
    "    nn.Linear(32, 32),\n",
    "    nn.Linear(32, 10)  # you can change the in_features of this layer but let the out_features at size 10 here - we need it layer\n",
    ")"
   ]
  },
  {
   "cell_type": "markdown",
   "metadata": {},
   "source": [
    "### Weight settings"
   ]
  },
  {
   "cell_type": "code",
   "execution_count": 20,
   "metadata": {},
   "outputs": [
    {
     "name": "stdout",
     "output_type": "stream",
     "text": [
      "Initial Weights: \n",
      "Parameter containing:\n",
      "tensor([[ 0.0129, -0.0208,  0.0286,  ...,  0.0084,  0.0091, -0.0239],\n",
      "        [ 0.0255,  0.0055,  0.0146,  ...,  0.0137, -0.0022,  0.0182],\n",
      "        [-0.0225, -0.0200, -0.0281,  ..., -0.0131, -0.0103, -0.0289],\n",
      "        ...,\n",
      "        [-0.0104, -0.0313, -0.0306,  ..., -0.0318,  0.0342,  0.0177],\n",
      "        [-0.0081,  0.0028,  0.0063,  ..., -0.0262, -0.0063, -0.0218],\n",
      "        [ 0.0068,  0.0027, -0.0053,  ...,  0.0352, -0.0261,  0.0068]],\n",
      "       requires_grad=True)\n",
      "Parameter containing:\n",
      "tensor([ 0.0068,  0.0002,  0.0178,  0.0256,  0.0244,  0.0255,  0.0324,  0.0338,\n",
      "         0.0012,  0.0098,  0.0250, -0.0064, -0.0057,  0.0032, -0.0158, -0.0213,\n",
      "         0.0202,  0.0035,  0.0203, -0.0186,  0.0120, -0.0298, -0.0337, -0.0242,\n",
      "        -0.0315, -0.0080, -0.0254,  0.0334, -0.0200,  0.0164, -0.0329, -0.0007],\n",
      "       requires_grad=True)\n",
      "Parameter containing:\n",
      "tensor([[ 0.1176, -0.0185,  0.0833,  ..., -0.0899,  0.0800,  0.0421],\n",
      "        [-0.0542, -0.1678, -0.0765,  ..., -0.0247, -0.0894,  0.1319],\n",
      "        [ 0.1214,  0.1413, -0.0585,  ...,  0.0083, -0.1553, -0.0522],\n",
      "        ...,\n",
      "        [-0.1464,  0.0594,  0.1201,  ...,  0.0225,  0.0103,  0.1379],\n",
      "        [ 0.0477, -0.0534, -0.1348,  ...,  0.0830,  0.1249, -0.0492],\n",
      "        [ 0.0227,  0.0466, -0.1443,  ...,  0.0398, -0.1310,  0.0931]],\n",
      "       requires_grad=True)\n",
      "Parameter containing:\n",
      "tensor([ 0.1598, -0.0982, -0.0331, -0.0418, -0.0728, -0.0429, -0.0800, -0.0021,\n",
      "         0.0851,  0.0054,  0.1405, -0.0221, -0.1221, -0.0610,  0.0801, -0.0147,\n",
      "        -0.0889,  0.0009,  0.1076, -0.0273, -0.1647, -0.0895,  0.0403, -0.1636,\n",
      "        -0.1744, -0.0831,  0.1203,  0.1598,  0.1594,  0.0660,  0.1621, -0.0790],\n",
      "       requires_grad=True)\n",
      "Parameter containing:\n",
      "tensor([[ 0.0684,  0.1373, -0.1404,  0.0247, -0.1577, -0.1374, -0.0784,  0.1750,\n",
      "          0.0149, -0.1252, -0.1165, -0.1245, -0.1199,  0.0339,  0.1292, -0.0187,\n",
      "          0.0341,  0.1348, -0.0655, -0.0125, -0.0525, -0.0684,  0.0971,  0.1288,\n",
      "          0.1460, -0.1120,  0.0972,  0.0934,  0.1504,  0.0793, -0.1608,  0.1265],\n",
      "        [-0.0113, -0.0325,  0.1449, -0.0307, -0.1584,  0.0471,  0.1294, -0.1686,\n",
      "          0.1168,  0.1207,  0.0692,  0.0711,  0.0912,  0.0064,  0.0847,  0.1287,\n",
      "         -0.0166, -0.1069, -0.1653, -0.1265,  0.0958,  0.1313,  0.0336, -0.0574,\n",
      "          0.1436, -0.0856,  0.0138, -0.0975,  0.0014, -0.0169,  0.0619, -0.0086],\n",
      "        [-0.1214, -0.0300, -0.1479, -0.0142, -0.1311,  0.0068,  0.0280, -0.0789,\n",
      "          0.0359,  0.0275, -0.1071, -0.1138,  0.0978,  0.0557,  0.1536,  0.1065,\n",
      "         -0.0907,  0.0247, -0.1586,  0.0303,  0.0773,  0.1418, -0.0491,  0.1730,\n",
      "          0.1538, -0.1439,  0.0447,  0.0240, -0.0579,  0.1650,  0.0602, -0.0068],\n",
      "        [ 0.0203, -0.0935, -0.0054,  0.0174, -0.0757, -0.1426, -0.1106, -0.0422,\n",
      "         -0.1222,  0.0757, -0.0353, -0.0594,  0.1555, -0.0053,  0.0504,  0.1223,\n",
      "          0.1406,  0.1686,  0.1033, -0.0394,  0.1432,  0.0250, -0.0340, -0.1344,\n",
      "         -0.0384, -0.0291,  0.1057, -0.1448, -0.0973, -0.0974, -0.0075,  0.0181],\n",
      "        [ 0.0255, -0.1477,  0.0519,  0.0128, -0.0058,  0.0369,  0.1634,  0.1260,\n",
      "          0.0633, -0.0318,  0.1022,  0.0525, -0.0405,  0.1189,  0.1019,  0.1280,\n",
      "         -0.0926, -0.1615,  0.0761,  0.0529,  0.0094, -0.1341,  0.1715, -0.0164,\n",
      "          0.1710,  0.0643, -0.1235, -0.0223,  0.0549,  0.0078, -0.1765, -0.1106],\n",
      "        [-0.1743, -0.0554,  0.1259,  0.0041,  0.1316, -0.0901, -0.1600,  0.1636,\n",
      "         -0.0628,  0.1762,  0.0920,  0.0477, -0.1355,  0.1062,  0.1136, -0.1417,\n",
      "         -0.1038,  0.0259,  0.1013,  0.0847, -0.1680,  0.1068,  0.0584, -0.0547,\n",
      "          0.1668, -0.1599, -0.0420, -0.0845, -0.0047, -0.0332,  0.0672,  0.1685],\n",
      "        [ 0.0786,  0.0068, -0.1751, -0.1757, -0.1146, -0.1300, -0.0790, -0.0855,\n",
      "         -0.1460, -0.0849,  0.0512,  0.0941, -0.0075,  0.0299,  0.1104, -0.0634,\n",
      "         -0.0997, -0.1091, -0.0036, -0.1229,  0.1222, -0.0951, -0.0385,  0.0912,\n",
      "          0.1390,  0.1735, -0.0661,  0.1476, -0.0371,  0.0750, -0.0853, -0.1367],\n",
      "        [ 0.0383,  0.0912, -0.0976, -0.0021,  0.0528,  0.0924,  0.1358,  0.1275,\n",
      "         -0.0578,  0.1011, -0.1130, -0.0554,  0.1048, -0.1337, -0.1236, -0.0901,\n",
      "         -0.0563, -0.0048,  0.1398,  0.1629,  0.1013,  0.1683,  0.0051, -0.0237,\n",
      "          0.0017, -0.0614, -0.0129, -0.0610, -0.0953, -0.0849, -0.1030,  0.1196],\n",
      "        [ 0.0141, -0.0211, -0.0211,  0.1738,  0.1456,  0.1738, -0.0284,  0.1615,\n",
      "         -0.1392, -0.0739, -0.0964,  0.0917, -0.0815, -0.1154, -0.0851,  0.0938,\n",
      "         -0.0570, -0.1726, -0.0894,  0.1759, -0.0875,  0.0161,  0.0107,  0.1603,\n",
      "          0.0192, -0.0876,  0.0110, -0.0209,  0.1171,  0.0560,  0.1186, -0.1178],\n",
      "        [ 0.1127, -0.0737,  0.0886,  0.0047,  0.1249, -0.1666,  0.0569,  0.0262,\n",
      "          0.0204, -0.0343, -0.0464,  0.0274,  0.0856,  0.1183,  0.0860, -0.1730,\n",
      "         -0.0138, -0.1764, -0.0580,  0.0638,  0.1414,  0.0123,  0.1173, -0.1141,\n",
      "         -0.1409, -0.0562,  0.0158,  0.1292,  0.0698,  0.1428, -0.1427,  0.0946]],\n",
      "       requires_grad=True)\n",
      "Parameter containing:\n",
      "tensor([-0.1528,  0.1575,  0.0773,  0.0288,  0.1224,  0.0753, -0.0237, -0.0791,\n",
      "        -0.1237, -0.0719], requires_grad=True)\n"
     ]
    }
   ],
   "source": [
    "# Find out how to change the weights of the layers from your neural network.\n",
    "# ATTTENTION: Write your code inside the \"with torch.no_grad():\" section! This is necessary for changing the weights of the layers\n",
    "\n",
    "print('Initial Weights: ')\n",
    "for parameter in model.parameters():\n",
    "    print(parameter)"
   ]
  },
  {
   "cell_type": "markdown",
   "metadata": {},
   "source": [
    "#### Zero weights"
   ]
  },
  {
   "cell_type": "code",
   "execution_count": 25,
   "metadata": {},
   "outputs": [
    {
     "name": "stdout",
     "output_type": "stream",
     "text": [
      "Parameter containing:\n",
      "tensor([[0., 0., 0.,  ..., 0., 0., 0.],\n",
      "        [0., 0., 0.,  ..., 0., 0., 0.],\n",
      "        [0., 0., 0.,  ..., 0., 0., 0.],\n",
      "        ...,\n",
      "        [0., 0., 0.,  ..., 0., 0., 0.],\n",
      "        [0., 0., 0.,  ..., 0., 0., 0.],\n",
      "        [0., 0., 0.,  ..., 0., 0., 0.]], requires_grad=True)\n",
      "Parameter containing:\n",
      "tensor([0., 0., 0., 0., 0., 0., 0., 0., 0., 0., 0., 0., 0., 0., 0., 0., 0., 0., 0., 0., 0., 0., 0., 0.,\n",
      "        0., 0., 0., 0., 0., 0., 0., 0.], requires_grad=True)\n",
      "Parameter containing:\n",
      "tensor([[0., 0., 0.,  ..., 0., 0., 0.],\n",
      "        [0., 0., 0.,  ..., 0., 0., 0.],\n",
      "        [0., 0., 0.,  ..., 0., 0., 0.],\n",
      "        ...,\n",
      "        [0., 0., 0.,  ..., 0., 0., 0.],\n",
      "        [0., 0., 0.,  ..., 0., 0., 0.],\n",
      "        [0., 0., 0.,  ..., 0., 0., 0.]], requires_grad=True)\n",
      "Parameter containing:\n",
      "tensor([0., 0., 0., 0., 0., 0., 0., 0., 0., 0., 0., 0., 0., 0., 0., 0., 0., 0., 0., 0., 0., 0., 0., 0.,\n",
      "        0., 0., 0., 0., 0., 0., 0., 0.], requires_grad=True)\n",
      "Parameter containing:\n",
      "tensor([[0., 0., 0., 0., 0., 0., 0., 0., 0., 0., 0., 0., 0., 0., 0., 0., 0., 0., 0., 0., 0., 0., 0., 0.,\n",
      "         0., 0., 0., 0., 0., 0., 0., 0.],\n",
      "        [0., 0., 0., 0., 0., 0., 0., 0., 0., 0., 0., 0., 0., 0., 0., 0., 0., 0., 0., 0., 0., 0., 0., 0.,\n",
      "         0., 0., 0., 0., 0., 0., 0., 0.],\n",
      "        [0., 0., 0., 0., 0., 0., 0., 0., 0., 0., 0., 0., 0., 0., 0., 0., 0., 0., 0., 0., 0., 0., 0., 0.,\n",
      "         0., 0., 0., 0., 0., 0., 0., 0.],\n",
      "        [0., 0., 0., 0., 0., 0., 0., 0., 0., 0., 0., 0., 0., 0., 0., 0., 0., 0., 0., 0., 0., 0., 0., 0.,\n",
      "         0., 0., 0., 0., 0., 0., 0., 0.],\n",
      "        [0., 0., 0., 0., 0., 0., 0., 0., 0., 0., 0., 0., 0., 0., 0., 0., 0., 0., 0., 0., 0., 0., 0., 0.,\n",
      "         0., 0., 0., 0., 0., 0., 0., 0.],\n",
      "        [0., 0., 0., 0., 0., 0., 0., 0., 0., 0., 0., 0., 0., 0., 0., 0., 0., 0., 0., 0., 0., 0., 0., 0.,\n",
      "         0., 0., 0., 0., 0., 0., 0., 0.],\n",
      "        [0., 0., 0., 0., 0., 0., 0., 0., 0., 0., 0., 0., 0., 0., 0., 0., 0., 0., 0., 0., 0., 0., 0., 0.,\n",
      "         0., 0., 0., 0., 0., 0., 0., 0.],\n",
      "        [0., 0., 0., 0., 0., 0., 0., 0., 0., 0., 0., 0., 0., 0., 0., 0., 0., 0., 0., 0., 0., 0., 0., 0.,\n",
      "         0., 0., 0., 0., 0., 0., 0., 0.],\n",
      "        [0., 0., 0., 0., 0., 0., 0., 0., 0., 0., 0., 0., 0., 0., 0., 0., 0., 0., 0., 0., 0., 0., 0., 0.,\n",
      "         0., 0., 0., 0., 0., 0., 0., 0.],\n",
      "        [0., 0., 0., 0., 0., 0., 0., 0., 0., 0., 0., 0., 0., 0., 0., 0., 0., 0., 0., 0., 0., 0., 0., 0.,\n",
      "         0., 0., 0., 0., 0., 0., 0., 0.]], requires_grad=True)\n",
      "Parameter containing:\n",
      "tensor([0., 0., 0., 0., 0., 0., 0., 0., 0., 0.], requires_grad=True)\n"
     ]
    }
   ],
   "source": [
    "# Set all weights and biases of your network to zero\n",
    "\n",
    "with torch.no_grad():\n",
    "    for parameter in model.parameters():\n",
    "        parameter.fill_(0)\n",
    "        print(parameter)\n",
    "        "
   ]
  },
  {
   "cell_type": "code",
   "execution_count": 27,
   "metadata": {},
   "outputs": [
    {
     "name": "stdout",
     "output_type": "stream",
     "text": [
      "Train Set: 60000\n",
      "Test Set: 10000\n"
     ]
    },
    {
     "name": "stderr",
     "output_type": "stream",
     "text": [
      "Training iteration 1:   0%|          | 0/15000 [00:00<?, ?it/s]"
     ]
    },
    {
     "name": "stderr",
     "output_type": "stream",
     "text": [
      "Training iteration 1: 100%|██████████| 15000/15000 [00:19<00:00, 768.34it/s]\n"
     ]
    },
    {
     "name": "stdout",
     "output_type": "stream",
     "text": [
      "Epoch 1 finished with loss: 2.301 and accuracy 0.112\n"
     ]
    },
    {
     "name": "stderr",
     "output_type": "stream",
     "text": [
      "Training iteration 2: 100%|██████████| 15000/15000 [00:19<00:00, 778.01it/s]\n"
     ]
    },
    {
     "name": "stdout",
     "output_type": "stream",
     "text": [
      "Epoch 2 finished with loss: 2.301 and accuracy 0.112\n"
     ]
    },
    {
     "name": "stderr",
     "output_type": "stream",
     "text": [
      "Training iteration 3: 100%|██████████| 15000/15000 [00:19<00:00, 786.27it/s]"
     ]
    },
    {
     "name": "stdout",
     "output_type": "stream",
     "text": [
      "Epoch 3 finished with loss: 2.301 and accuracy 0.112\n"
     ]
    },
    {
     "name": "stderr",
     "output_type": "stream",
     "text": [
      "\n"
     ]
    }
   ],
   "source": [
    "# Train the network with your new settings and take a look at the results\n",
    "# Run the model training\n",
    "train_model(model=model, batch_size=4, epochs=3)\n",
    "\n",
    "\n",
    "# What can you observe?"
   ]
  },
  {
   "cell_type": "markdown",
   "metadata": {},
   "source": [
    "#### Constant weights"
   ]
  },
  {
   "cell_type": "code",
   "execution_count": 28,
   "metadata": {},
   "outputs": [],
   "source": [
    "# Set all weights and biases to constant numbers (e.g. 0.5)\n",
    "# How does the training progress?\n",
    "\n",
    "with torch.no_grad():\n",
    "    for parameter in model.parameters():\n",
    "        parameter.fill_(.7464)"
   ]
  },
  {
   "cell_type": "code",
   "execution_count": 29,
   "metadata": {},
   "outputs": [
    {
     "name": "stdout",
     "output_type": "stream",
     "text": [
      "Train Set: 60000\n",
      "Test Set: 10000\n"
     ]
    },
    {
     "name": "stderr",
     "output_type": "stream",
     "text": [
      "Training iteration 1: 100%|██████████| 15000/15000 [00:19<00:00, 766.11it/s]\n"
     ]
    },
    {
     "name": "stdout",
     "output_type": "stream",
     "text": [
      "Epoch 1 finished with loss: 563.356 and accuracy 0.101\n"
     ]
    },
    {
     "name": "stderr",
     "output_type": "stream",
     "text": [
      "Training iteration 2: 100%|██████████| 15000/15000 [00:20<00:00, 734.65it/s]\n"
     ]
    },
    {
     "name": "stdout",
     "output_type": "stream",
     "text": [
      "Epoch 2 finished with loss: 2.765 and accuracy 0.117\n"
     ]
    },
    {
     "name": "stderr",
     "output_type": "stream",
     "text": [
      "Training iteration 3: 100%|██████████| 15000/15000 [00:19<00:00, 773.35it/s]"
     ]
    },
    {
     "name": "stdout",
     "output_type": "stream",
     "text": [
      "Epoch 3 finished with loss: 2.356 and accuracy 0.167\n"
     ]
    },
    {
     "name": "stderr",
     "output_type": "stream",
     "text": [
      "\n"
     ]
    }
   ],
   "source": [
    "# Train the network with your new settings and take a look at the results\n",
    "# Run the model training\n",
    "train_model(model=model, batch_size=4, epochs=3)\n",
    "\n",
    "# What can you observe?"
   ]
  },
  {
   "cell_type": "code",
   "execution_count": 30,
   "metadata": {},
   "outputs": [
    {
     "name": "stdout",
     "output_type": "stream",
     "text": [
      "Gradients at the Output Layer:\n",
      "tensor([ 0.2066, -1.1490,  0.3055,  0.0533,  0.0617,  0.2748,  0.1231,  0.3220,\n",
      "         0.2519, -0.4500])\n"
     ]
    }
   ],
   "source": [
    "# Let us also take a look at the gradient of the output layer\n",
    "# Access the gradients at the output layer of your model and analyze them\n",
    "\n",
    "# We first input some random values\n",
    "# forward + backward\n",
    "outputs = model(torch.randn(size=(1,784)))\n",
    "loss = nn.CrossEntropyLoss()(outputs, torch.tensor([1]))\n",
    "loss.backward()\n",
    "\n",
    "\n",
    "# Code here\n",
    "output_gradients = list(model.parameters())[-1].grad\n",
    "\n",
    "print(\"Gradients at the Output Layer:\")\n",
    "print(output_gradients)\n",
    "\n",
    "\n",
    "# What can you observe?\n",
    "# What we can observe is, that the model changes the weight always the same amount making it unable to learn."
   ]
  },
  {
   "cell_type": "markdown",
   "metadata": {},
   "source": [
    "#### Unusual weights"
   ]
  },
  {
   "cell_type": "code",
   "execution_count": 31,
   "metadata": {},
   "outputs": [],
   "source": [
    "# Set some weights (around 50%) of every model of the model to some weird value, e. g. extremely high (> 10.0) or extremely low (< 1e-7).\n",
    "# How does the training progress? \n",
    "# Can your model also diverge instead of converge because the weights were way to high or low?\n",
    "\n",
    "with torch.no_grad():\n",
    "    # Code here\n",
    "    for param in model.parameters():\n",
    "        param.fill_(1e-8)\n",
    "\n",
    "output_gradients = list(model.parameters())[-1].grad\n",
    "\n",
    "print(\"Gradients at the Output Layer:\")\n",
    "print(output_gradients)\n"
   ]
  },
  {
   "cell_type": "code",
   "execution_count": 33,
   "metadata": {},
   "outputs": [
    {
     "name": "stdout",
     "output_type": "stream",
     "text": [
      "Train Set: 60000\n",
      "Test Set: 10000\n"
     ]
    },
    {
     "name": "stderr",
     "output_type": "stream",
     "text": [
      "Training iteration 1:   0%|          | 0/15000 [00:00<?, ?it/s]"
     ]
    },
    {
     "name": "stderr",
     "output_type": "stream",
     "text": [
      "Training iteration 1: 100%|██████████| 15000/15000 [00:19<00:00, 769.04it/s]\n"
     ]
    },
    {
     "name": "stdout",
     "output_type": "stream",
     "text": [
      "Epoch 1 finished with loss: 2.301 and accuracy 0.112\n"
     ]
    },
    {
     "name": "stderr",
     "output_type": "stream",
     "text": [
      "Training iteration 2: 100%|██████████| 15000/15000 [00:19<00:00, 773.89it/s]\n"
     ]
    },
    {
     "name": "stdout",
     "output_type": "stream",
     "text": [
      "Epoch 2 finished with loss: 2.301 and accuracy 0.112\n"
     ]
    },
    {
     "name": "stderr",
     "output_type": "stream",
     "text": [
      "Training iteration 3: 100%|██████████| 15000/15000 [00:19<00:00, 771.78it/s]\n"
     ]
    },
    {
     "name": "stdout",
     "output_type": "stream",
     "text": [
      "Epoch 3 finished with loss: 2.301 and accuracy 0.112\n"
     ]
    },
    {
     "name": "stderr",
     "output_type": "stream",
     "text": [
      "Training iteration 4: 100%|██████████| 15000/15000 [00:19<00:00, 774.40it/s]\n"
     ]
    },
    {
     "name": "stdout",
     "output_type": "stream",
     "text": [
      "Epoch 4 finished with loss: 2.301 and accuracy 0.112\n"
     ]
    },
    {
     "name": "stderr",
     "output_type": "stream",
     "text": [
      "Training iteration 5: 100%|██████████| 15000/15000 [00:21<00:00, 710.60it/s]"
     ]
    },
    {
     "name": "stdout",
     "output_type": "stream",
     "text": [
      "Epoch 5 finished with loss: 2.301 and accuracy 0.112\n"
     ]
    },
    {
     "name": "stderr",
     "output_type": "stream",
     "text": [
      "\n"
     ]
    }
   ],
   "source": [
    "# Train the network with your new settings and take a look at the results\n",
    "# Run the model training\n",
    "train_model(model=model, batch_size=4, epochs=5)\n",
    "\n",
    "# What can you observe?"
   ]
  },
  {
   "cell_type": "markdown",
   "metadata": {},
   "source": [
    "## Weight initialization techniques"
   ]
  },
  {
   "cell_type": "code",
   "execution_count": 67,
   "metadata": {},
   "outputs": [
    {
     "data": {
      "image/png": "[encoded data removed]",
      "text/plain": [
       "<Figure size 800x600 with 1 Axes>"
      ]
     },
     "metadata": {},
     "output_type": "display_data"
    },
    {
     "data": {
      "image/png": "[encoded data removed]",
      "text/plain": [
       "<Figure size 800x600 with 1 Axes>"
      ]
     },
     "metadata": {},
     "output_type": "display_data"
    }
   ],
   "source": [
    "# We now take a closer look to the sigmoid activation function.\n",
    "# Where does the sigmoid function creates small gradients and where are the biggest gradient?\n",
    "\n",
    "# Explanation here\n",
    "'''\n",
    "For a large x value approximately [10, -infinity) or too small x  value (-infinity, -10] the gradinet of the activation function is almost zero \n",
    "cause the change of the function value is close to zero. For a positive large value, the functional value is close to 1 and the negative small value the \n",
    "functional value is close to 0. when x = 0, the functional value is 0.5, and the gradient is the biggest around 0.\n",
    "'''\n",
    "\n",
    "\n",
    "# Now lets plot some different activation function methods\n",
    "# Use matplotlib and plot the sigmoid activation function into the plot.\n",
    "# Create 1000 sample points from x-values [-5.0, 5.0] and create y = Sigmoid(x) and plot the result. (The result should simply be the sigmoid curve)\n",
    "# You can use the Sigmoid function from PyTorch here!\n",
    "\n",
    "import matplotlib.pyplot as plt\n",
    "\n",
    "# Code here\n",
    "def sigmoid_fct(x):\n",
    "    return 1/(1+torch.exp(-x))\n",
    "\n",
    "\n",
    "\n",
    "\n",
    "# Now lets plot the kaiming normal weight initialization into the plot\n",
    "# Create 1000 points (x) sampled from the kaiming_normal_ (pytorch function) and create y = Sigmoid(kaiming_normal(1000)) and plot the result into the same plot as before.\n",
    "kaiming_values = torch.nn.init.kaiming_normal_(torch.empty(1000).reshape(1, -1)).reshape(-1)\n",
    "\n",
    "random_values = torch.randn(1000)\n",
    "y_values_random = sigmoid_fct(random_values)\n",
    "\n",
    "x_values = torch.linspace(-5.0, 5.0, 1000)\n",
    "y_values_kaiming = sigmoid_fct(kaiming_values)\n",
    "\n",
    "plt.figure(figsize=(8, 6))\n",
    "\n",
    "plt.plot(x_values, sigmoid_fct(x_values), label='Sigmoid Function', color='blue')\n",
    "plt.scatter(random_values, y_values_random, label='Sigmoid(Random Normal)', color='green', alpha=0.5)\n",
    "plt.scatter(kaiming_values, y_values_kaiming, label='Sigmoid(Kaiming Normal)', color='red', alpha=0.5)\n",
    "\n",
    "plt.title('Random vs Kaiming Normal on Sigmoid Function')\n",
    "plt.xlabel('X values')\n",
    "plt.ylabel('Sigmoid(X) / Sigmoid(Kaiming Normal)')\n",
    "plt.grid(True)\n",
    "\n",
    "plt.legend()\n",
    "plt.show()\n",
    "\n",
    "\n",
    "# Now lets plot a random normal (torch.randn) weight initialization into the plot\n",
    "# Create 1000 points (x) sampled from the randn (pytorch function) and create y = Sigmoid(randn(1000)) and plot the result into the same plot as before.\n",
    "# Use a different color for plotting the results\n",
    "\n",
    "\n",
    "\n",
    "\n",
    "\n",
    "# Now lets plot a xavier_normal weight initialization into the plot\n",
    "# Create 1000 points (x) sampled from the xavier_normal_ (pytorch function) and create y = Sigmoid(xavier_normal_(1000)) and plot the result into the same plot as before.\n",
    "# Use a different color for plotting the results\n",
    "\n",
    "\n",
    "# Code here\n",
    "plt.figure(figsize=(8, 6))\n",
    "\n",
    "xavier_values = torch.nn.init.xavier_normal_(torch.empty(1000).reshape(1, -1)).reshape(-1)\n",
    "y_values_xavier = sigmoid_fct(xavier_values)\n",
    "\n",
    "random_values = torch.randn(1000)\n",
    "y_values_random = sigmoid_fct(random_values)\n",
    "\n",
    "plt.plot(x_values, sigmoid_fct(x_values), label='Sigmoid Function', color='blue')\n",
    "plt.scatter(random_values, y_values_random, label='Sigmoid(Random Normal)', color='green', alpha=0.5)\n",
    "plt.scatter(xavier_values, y_values_xavier, label='Sigmoid(Xavier Normal)', color='orange', alpha=0.5)\n",
    "\n",
    "\n",
    "\n",
    "plt.title('Random vs Xavier Normal on Sigmoid Function')\n",
    "plt.xlabel('X values')\n",
    "plt.ylabel('Sigmoid(X) / Sigmoid(Xavier Normal)')\n",
    "plt.grid(True)\n",
    "\n",
    "plt.legend()\n",
    "plt.show()\n",
    "\n",
    "\n",
    "# Which weight initialization technique is best when using sigmoid activation function?\n",
    "\n",
    "# Answer here"
   ]
  },
  {
   "cell_type": "markdown",
   "metadata": {},
   "source": [
    "## Be creative and test some other weight initialization techniques! - There is so much to explore!"
   ]
  }
 ],
 "metadata": {
  "kernelspec": {
   "display_name": "Python 3.9.13 ('aai_2')",
   "language": "python",
   "name": "python3"
  },
  "language_info": {
   "codemirror_mode": {
    "name": "ipython",
    "version": 3
   },
   "file_extension": ".py",
   "mimetype": "text/x-python",
   "name": "python",
   "nbconvert_exporter": "python",
   "pygments_lexer": "ipython3",
   "version": "3.9.13"
  },
  "orig_nbformat": 4,
  "vscode": {
   "interpreter": {
    "hash": "25301cabe4c6f833fd20f15b1b22933971919908771eb627a83fe325b4fb6671"
   }
  }
 },
 "nbformat": 4,
 "nbformat_minor": 2
}
